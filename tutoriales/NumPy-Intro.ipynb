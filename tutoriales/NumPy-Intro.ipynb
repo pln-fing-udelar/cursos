{
  "cells": [
    {
      "cell_type": "markdown",
      "metadata": {
        "id": "LZv6jPjKSkKm"
      },
      "source": [
        "### NumPy, computación científica con Python\n",
        "\n",
        "Facultad de Ingeniería - Universidad de la República - Uruguay\n",
        "\n",
        "28 de julio de 2025"
      ]
    },
    {
      "cell_type": "markdown",
      "metadata": {
        "id": "v3acP8euSkKs"
      },
      "source": [
        "[![Open In Colab](https://colab.research.google.com/assets/colab-badge.svg)](https://colab.research.google.com/github/gmonce/all_of_machine_learning/blob/main/NumPy-Intro.ipynb)\n",
        "\n",
        "\n",
        "En este notebook veremos formas de trabajar con arrays multidimensionales (también llamados tensores) utilizando la biblioteca fundamental para computación científica de Python: NumPy. Esta biblioteca es un componente imprescindible de prácticamente todas las bibliotecas de aprendizaje automático en Python, porque provee una forma eficiente para trabajar con tensores (en particular, con matrices y vectores).\n",
        "\n",
        "\n",
        "\n",
        "**Prerrequsitos**\n",
        "\n",
        "- Suponemos que el lector tiene ya instalado un entorno de programación en Python\n",
        "- Suponemos que el lector tiene instalado el package NumPy. [Aquí](https://numpy.org/install/) puede encontrar instrucciones para instalarlo.\n",
        "- Suponemos que el lector conoce el lenguaje de programación Python y tiene alguna experiencia en programación.\n",
        "- Suponemos que el lector tiene conocimientos básicos de álgebra lineal (aunque no es imprescindible)\n",
        "\n",
        "**Referencias**\n",
        "\n",
        "- [Introduction to NumPy]((https://sebastianraschka.com/pdf/books/dlb/appendix_f_numpy-intro.pdf)) - Sebastian Raschka\n",
        "- [An introduction to NumPy and SciPy](https://sites.engineering.ucsb.edu/~shell/che210d/numpy.pdf) - M. Scott Shell\n",
        "\n",
        "- [100 numpy exercises](https://github.com/rougier/numpy-100) - Nicolas Rougier\n"
      ]
    },
    {
      "cell_type": "code",
      "execution_count": 1,
      "metadata": {
        "colab": {
          "base_uri": "https://localhost:8080/",
          "height": 35
        },
        "id": "ezR5aNmDSkKx",
        "outputId": "0289f6a9-e7a0-4f9d-cf8f-a8807561a143"
      },
      "outputs": [
        {
          "output_type": "execute_result",
          "data": {
            "text/plain": [
              "'2.0.2'"
            ],
            "application/vnd.google.colaboratory.intrinsic+json": {
              "type": "string"
            }
          },
          "metadata": {},
          "execution_count": 1
        }
      ],
      "source": [
        "import numpy as np\n",
        "\n",
        "## Este notebook fue elborado con la versión 2.0.2 de NumPy\n",
        "\n",
        "np.__version__"
      ]
    },
    {
      "cell_type": "markdown",
      "metadata": {
        "id": "bPh3clSNSkK_"
      },
      "source": [
        "### 0. Listas en Python\n",
        "\n",
        "La forma básica de implementar arrays en Python son las _listas_:"
      ]
    },
    {
      "cell_type": "code",
      "execution_count": 2,
      "metadata": {
        "colab": {
          "base_uri": "https://localhost:8080/"
        },
        "id": "ny1EqgxISkLC",
        "outputId": "85cf3857-4a32-4274-b8c6-926cc5cdfc81"
      },
      "outputs": [
        {
          "output_type": "stream",
          "name": "stdout",
          "text": [
            "[0, 'a', 2, 3]\n"
          ]
        }
      ],
      "source": [
        "lista = [0, 'a', 2, 3]\n",
        "print(lista)"
      ]
    },
    {
      "cell_type": "markdown",
      "metadata": {
        "id": "cSvPvnGRSkLK"
      },
      "source": [
        "Las listas son una estructura muy poderosa, porque permiten (como se vio en el ejemplo anterior) intercalar diferentes tipos de datos en la misma lista y no tienen una longitud fija. Existen operadores para seleccionar elementos, aplicar funciones a cada elemento, agregar y quitar elementos, etc. Por más información sobre listas, se puede consultar la documentación de python, o infinidad de tutoriales en Internet. El problema de las listas es que tanta flexibilidad se paga con eficiencia. NumPy surge como la forma de poder obtener esa eficiencia, aunque perdiendo flexibilidad."
      ]
    },
    {
      "cell_type": "markdown",
      "metadata": {
        "id": "fhFrzD9BSkLM"
      },
      "source": [
        "### 1. ndarrays"
      ]
    },
    {
      "cell_type": "markdown",
      "metadata": {
        "id": "11GGjUM6SkLP"
      },
      "source": [
        "La estructura básica de NumPy es el array multidimensional (o `ndarray`), también llamados tensores. Los tensores incluyen los escalares (de dimensión 0), los vectores (de dimensión 1) y las matrices (de dimensión 2).  Estos arrays están almacenados en secciones continuas de memoria, y por lo tanto pueden ser cacheados fácilmente. Pero, para que esto sea posible, los arrays deben cumplir dos restricciones: tener largo fijo, y tener elementos de un solo tipo. Esto permite que NumPy pueda utilizar los más eficientes loops escritos en C y evitar muchos chequeos.\n",
        "\n",
        "Comencemos por crear un un `ndarray` con 2 filas y 3 columnas (diremos que tiene dimensión 2x3, nombrando siempre primero las filas y luego las columnas):"
      ]
    },
    {
      "cell_type": "code",
      "execution_count": 3,
      "metadata": {
        "colab": {
          "base_uri": "https://localhost:8080/"
        },
        "id": "miHO3_KBSkLQ",
        "outputId": "38285921-60a3-4f3e-87fc-42261b0fffe9"
      },
      "outputs": [
        {
          "output_type": "stream",
          "name": "stdout",
          "text": [
            "[[1 2 3]\n",
            " [4 5 6]]\n"
          ]
        }
      ],
      "source": [
        "a = np.array([[1,2,3],[4,5,6]])\n",
        "print(a)"
      ]
    },
    {
      "cell_type": "markdown",
      "metadata": {
        "id": "XmfBoUF7SkLY"
      },
      "source": [
        "Los arrays son objetos, y tienen métodos asociados. Utilizamos  el método `dtype` para conocer el tipo de los elementos de `a`"
      ]
    },
    {
      "cell_type": "code",
      "execution_count": 4,
      "metadata": {
        "colab": {
          "base_uri": "https://localhost:8080/"
        },
        "id": "tpn-kY4XSkLb",
        "outputId": "be7a1ba1-fb07-4710-979d-e965699984c2"
      },
      "outputs": [
        {
          "output_type": "stream",
          "name": "stdout",
          "text": [
            "int64\n"
          ]
        }
      ],
      "source": [
        "print(a.dtype)"
      ]
    },
    {
      "cell_type": "markdown",
      "metadata": {
        "id": "t0YuD6iKSkLh"
      },
      "source": [
        "En el caso anterior, el constructor dedujo el tipo de los elementos, pero esto puede decirse explícitamente a través del parámetro `dtype` en el momento de crear el array. Creemos el mismo array que en el punto anterior, pero con tipo `float32`:"
      ]
    },
    {
      "cell_type": "code",
      "execution_count": 5,
      "metadata": {
        "colab": {
          "base_uri": "https://localhost:8080/"
        },
        "id": "D0j-IyzLSkLi",
        "outputId": "71934034-ed1d-45ee-b3e8-457721052901"
      },
      "outputs": [
        {
          "output_type": "stream",
          "name": "stdout",
          "text": [
            "[[1. 2. 3.]\n",
            " [4. 5. 6.]]\n",
            "[[1. 2.]\n",
            " [3. 4.]\n",
            " [5. 6.]\n",
            " [7. 8.]]\n"
          ]
        }
      ],
      "source": [
        "a = np.array([[1,2,3],[4,5,6]], dtype=np.float32)\n",
        "print(a)\n",
        "\n",
        "b = np.array([[1,2],[3,4], [5,6],[7,8]], dtype=np.float32)\n",
        "print (b)\n"
      ]
    },
    {
      "cell_type": "markdown",
      "metadata": {
        "id": "4Bz0U60RSkLp"
      },
      "source": [
        "La lista de tipos disponibles es muy grande. Consulte la [documentación](https://docs.scipy.org/doc/numpy/user/basics.types.html) de NumPy para la lista completa.\n",
        "\n",
        "Los arrays pueden tener hasta 32 dimensiones diferentes, pero aquí veremos solamente los que tienen dimensión 1 (vectores), y 2 (matrices). Todas las operaciones que veremos pueden extenderse a arrays de mayor dimensión.\n",
        "\n",
        "Si queremos conocer las dimensiones de un array, podemos utilizar el método `shape`, mientras que `ndim` nos dice el número de dimensiones, y `size` el número de elementos.\n"
      ]
    },
    {
      "cell_type": "code",
      "execution_count": 6,
      "metadata": {
        "colab": {
          "base_uri": "https://localhost:8080/"
        },
        "id": "PIthHh5wSkLs",
        "outputId": "8c4225e5-d46e-41ac-c129-9ae75c393fe2"
      },
      "outputs": [
        {
          "output_type": "execute_result",
          "data": {
            "text/plain": [
              "((2, 3), (4, 2))"
            ]
          },
          "metadata": {},
          "execution_count": 6
        }
      ],
      "source": [
        "a.shape, b.shape"
      ]
    },
    {
      "cell_type": "code",
      "execution_count": 7,
      "metadata": {
        "colab": {
          "base_uri": "https://localhost:8080/"
        },
        "id": "__j-BdBjSkLx",
        "outputId": "69bbbb51-471a-47db-b3b1-12dadecfc966"
      },
      "outputs": [
        {
          "output_type": "execute_result",
          "data": {
            "text/plain": [
              "(2, 2)"
            ]
          },
          "metadata": {},
          "execution_count": 7
        }
      ],
      "source": [
        "a.ndim, b.ndim"
      ]
    },
    {
      "cell_type": "code",
      "execution_count": 8,
      "metadata": {
        "colab": {
          "base_uri": "https://localhost:8080/"
        },
        "id": "liKsrVJpSkL3",
        "outputId": "b89b6592-ecd3-4788-d9eb-98259031c8ba"
      },
      "outputs": [
        {
          "output_type": "execute_result",
          "data": {
            "text/plain": [
              "(6, 8)"
            ]
          },
          "metadata": {},
          "execution_count": 8
        }
      ],
      "source": [
        "a.size, b.size"
      ]
    },
    {
      "cell_type": "markdown",
      "metadata": {
        "id": "Jtp-7-ETSkL-"
      },
      "source": [
        "Como mencionamos previamente, los vectores son casos especiales de los arrays, con dimension 1. Incluso es posible definir arrays con dimensión 0 (también conocidos como escalares)."
      ]
    },
    {
      "cell_type": "code",
      "execution_count": 9,
      "metadata": {
        "colab": {
          "base_uri": "https://localhost:8080/"
        },
        "id": "ppGYilWPSkMA",
        "outputId": "534faa84-f05e-49ec-a1cd-deb6f88577e2"
      },
      "outputs": [
        {
          "output_type": "execute_result",
          "data": {
            "text/plain": [
              "(array(['a', 'b', 'c', 'd', 'e'], dtype='<U1'), array(42))"
            ]
          },
          "metadata": {},
          "execution_count": 9
        }
      ],
      "source": [
        "c=np.array(['a','b','c','d','e'])\n",
        "scalar=np.array(42)\n",
        "c, scalar"
      ]
    },
    {
      "cell_type": "code",
      "execution_count": 10,
      "metadata": {
        "colab": {
          "base_uri": "https://localhost:8080/"
        },
        "id": "GcHf1aR9SkMH",
        "outputId": "2591db85-89e4-4649-faa6-28f5ebfe254e"
      },
      "outputs": [
        {
          "output_type": "execute_result",
          "data": {
            "text/plain": [
              "((5,), ())"
            ]
          },
          "metadata": {},
          "execution_count": 10
        }
      ],
      "source": [
        "c.shape, scalar.shape"
      ]
    },
    {
      "cell_type": "markdown",
      "metadata": {
        "id": "_FLGiY1JSkMM"
      },
      "source": [
        "Hay diferentes formas para facilitar la creación de arrays: pruebe los métodos `np.ones`, `np.zeros`, `np.eye` y `np.diag`. ¿Puede ver qué hace cada uno?"
      ]
    },
    {
      "cell_type": "code",
      "execution_count": 11,
      "metadata": {
        "colab": {
          "base_uri": "https://localhost:8080/"
        },
        "id": "7i1ixkldSkMO",
        "outputId": "9ffbda06-cf44-4460-d759-45a006c614e3"
      },
      "outputs": [
        {
          "output_type": "execute_result",
          "data": {
            "text/plain": [
              "array([[1., 1., 1.],\n",
              "       [1., 1., 1.],\n",
              "       [1., 1., 1.]])"
            ]
          },
          "metadata": {},
          "execution_count": 11
        }
      ],
      "source": [
        "np.ones((3,3))"
      ]
    },
    {
      "cell_type": "code",
      "execution_count": 12,
      "metadata": {
        "colab": {
          "base_uri": "https://localhost:8080/"
        },
        "id": "1RASTsYMSkMU",
        "outputId": "29e17f18-387d-4b60-c795-99b50cf5a68f"
      },
      "outputs": [
        {
          "output_type": "execute_result",
          "data": {
            "text/plain": [
              "array([[3, 0, 0],\n",
              "       [0, 3, 0],\n",
              "       [0, 0, 3]])"
            ]
          },
          "metadata": {},
          "execution_count": 12
        }
      ],
      "source": [
        "np.diag((3,3,3))"
      ]
    },
    {
      "cell_type": "markdown",
      "metadata": {
        "id": "W9rIbzCpSkMa"
      },
      "source": [
        "Si queremos crear un array con un rango, usamos `np.arange`, y si queremos generar puntos equiespaciados usamos `np.linspace` (muy útiles para crear gráficas)"
      ]
    },
    {
      "cell_type": "code",
      "execution_count": 13,
      "metadata": {
        "colab": {
          "base_uri": "https://localhost:8080/"
        },
        "id": "ytEXigdDSkMc",
        "outputId": "58c014fa-e375-4612-ac61-d710b8352ea0"
      },
      "outputs": [
        {
          "output_type": "execute_result",
          "data": {
            "text/plain": [
              "array([0.        , 0.11111111, 0.22222222, 0.33333333, 0.44444444,\n",
              "       0.55555556, 0.66666667, 0.77777778, 0.88888889, 1.        ])"
            ]
          },
          "metadata": {},
          "execution_count": 13
        }
      ],
      "source": [
        "np.linspace(0.,1.,num=10) #Array con 10 elementos, equiespaciados entre 0 y 1"
      ]
    },
    {
      "cell_type": "code",
      "execution_count": 14,
      "metadata": {
        "colab": {
          "base_uri": "https://localhost:8080/"
        },
        "id": "HftHEeOfSkMh",
        "outputId": "c1d5f2d7-28bc-4359-d1d0-4f8fd205860e"
      },
      "outputs": [
        {
          "output_type": "execute_result",
          "data": {
            "text/plain": [
              "array([10, 12, 14, 16, 18])"
            ]
          },
          "metadata": {},
          "execution_count": 14
        }
      ],
      "source": [
        "np.arange(10,20,2) # Vector con números entre 10 y 20, de a dos (notar que el valor máximo no está incluido)."
      ]
    },
    {
      "cell_type": "markdown",
      "metadata": {
        "id": "IzJRNmW_SkMk"
      },
      "source": [
        "Ejemplo: crearemos cree un vector con los puntos entre 0 y 50, con intervalos de 0.5, obtendremos el cuadrado de cada elemento, y lo mostraremos gráficamente (usando la biblioteca Matplotib)."
      ]
    },
    {
      "cell_type": "code",
      "execution_count": 15,
      "metadata": {
        "id": "W_4FLDd3SkMm"
      },
      "outputs": [],
      "source": [
        "import matplotlib.pyplot as plt"
      ]
    },
    {
      "cell_type": "code",
      "execution_count": 16,
      "metadata": {
        "colab": {
          "base_uri": "https://localhost:8080/",
          "height": 447
        },
        "id": "6IhY164eSkMr",
        "outputId": "6c4d8199-4732-4030-a9d0-47dbc5d5fcf4"
      },
      "outputs": [
        {
          "output_type": "execute_result",
          "data": {
            "text/plain": [
              "[<matplotlib.lines.Line2D at 0x78b376228c50>]"
            ]
          },
          "metadata": {},
          "execution_count": 16
        },
        {
          "output_type": "display_data",
          "data": {
            "text/plain": [
              "<Figure size 640x480 with 1 Axes>"
            ],
            "image/png": "[encoded data removed]"
          },
          "metadata": {}
        }
      ],
      "source": [
        "x=np.linspace(0.,50.,num=101)\n",
        "y=x**2\n",
        "plt.plot(x,y)"
      ]
    },
    {
      "cell_type": "markdown",
      "metadata": {
        "id": "rnCynGhySkMw"
      },
      "source": [
        "### 2.  Array indexing"
      ]
    },
    {
      "cell_type": "markdown",
      "metadata": {
        "id": "UVK2xojzSkMx"
      },
      "source": [
        "Los arrays tienen  dimensiones (llamadas _axes_, plural de _axis_). La primera dimensión son las filas, y la segunda las columnas (y así sucesivamente con nuevas dimensiones). Entonces, para conocer el elemento de un array de dos dimensiones (i.e. una matriz) a, debe referenciarse como `a[fila, columna]`. Los elementos se numeran (siguiendo el estándar de Python), comenzando en 0.\n",
        "\n",
        "Construyamos una matriz de 4x3. Asignemos el valor 0 al elemento situado en la primera columna y segunda fila. Lo mismo con el elemento ubicado en la columna 2, fila 1."
      ]
    },
    {
      "cell_type": "code",
      "execution_count": 25,
      "metadata": {
        "colab": {
          "base_uri": "https://localhost:8080/"
        },
        "id": "d_CZSWu6SkMz",
        "outputId": "ca7b3e30-d3cf-4d28-9756-c409398589fa"
      },
      "outputs": [
        {
          "output_type": "execute_result",
          "data": {
            "text/plain": [
              "array([[ 1,  2,  3],\n",
              "       [ 4,  5,  6],\n",
              "       [ 7,  8,  9],\n",
              "       [10, 11, 12]])"
            ]
          },
          "metadata": {},
          "execution_count": 25
        }
      ],
      "source": [
        "z=np.eye(4)\n",
        "z=np.array([[1,2,3],[4,5,6],[7,8,9],[10,11,12]])\n",
        "z"
      ]
    },
    {
      "cell_type": "code",
      "execution_count": 28,
      "metadata": {
        "colab": {
          "base_uri": "https://localhost:8080/"
        },
        "id": "-BQFSMaHSkM4",
        "outputId": "3037f869-77c3-4107-bc3c-4ec679cf170b"
      },
      "outputs": [
        {
          "output_type": "execute_result",
          "data": {
            "text/plain": [
              "array([[ 1,  2,  3],\n",
              "       [ 0,  5,  0],\n",
              "       [ 7,  8,  9],\n",
              "       [10, 11, 12]])"
            ]
          },
          "metadata": {},
          "execution_count": 28
        }
      ],
      "source": [
        "z[1,0]=0\n",
        "z[1,2]=0\n",
        "z"
      ]
    },
    {
      "cell_type": "markdown",
      "metadata": {
        "id": "CghlNAa3SkM9"
      },
      "source": [
        "Igual que en las listas de Python, pueden seleccionarse rangos de elementos, además de elementos individuales. La forma básica es i:j:k, donde i es el índice de inicio, j el de fin (no incluido), y k es el paso. Si los índices de inicio y fin se omiten, entonces se asume que es desde el principio o final, respectivamente. Si el paso se omite, se considera que es 1.\n",
        "\n",
        "Por ejemplo, para seleccionar los elementos de las tres primeras filas, y de las columnas 1 y 2, utilizamos:"
      ]
    },
    {
      "cell_type": "code",
      "execution_count": 30,
      "metadata": {
        "colab": {
          "base_uri": "https://localhost:8080/"
        },
        "id": "yq-qYxMLSkM_",
        "outputId": "02723beb-5de8-441e-a3c5-d4980ab53d12"
      },
      "outputs": [
        {
          "output_type": "execute_result",
          "data": {
            "text/plain": [
              "array([[2, 3],\n",
              "       [5, 0],\n",
              "       [8, 9]])"
            ]
          },
          "metadata": {},
          "execution_count": 30
        }
      ],
      "source": [
        "z[0:3,1:3]"
      ]
    },
    {
      "cell_type": "markdown",
      "metadata": {
        "id": "hx1BeZ4uSkND"
      },
      "source": [
        "El indexado en Numpy permite seleccionar desde el final hacia atrás (utilizando índices negativos), y especificar un axis completa, utilizando la notación ':' (esto es, se seleccionan todos los elementos del axis). Por lo tanto, para seleccionar la última fila, basta poner:"
      ]
    },
    {
      "cell_type": "code",
      "execution_count": 31,
      "metadata": {
        "colab": {
          "base_uri": "https://localhost:8080/"
        },
        "id": "SLbXvlVESkNF",
        "outputId": "8e9447de-58b1-4b48-e5e3-ebfa9b19dcd1"
      },
      "outputs": [
        {
          "output_type": "execute_result",
          "data": {
            "text/plain": [
              "array([10, 11, 12])"
            ]
          },
          "metadata": {},
          "execution_count": 31
        }
      ],
      "source": [
        "z[-1,:]"
      ]
    },
    {
      "cell_type": "markdown",
      "metadata": {
        "id": "pXkU_TzudU79"
      },
      "source": [
        "También es posible utilizar pasos negativos, lo que nos da una forma muy elegante de invertir un vector"
      ]
    },
    {
      "cell_type": "code",
      "execution_count": 32,
      "metadata": {
        "colab": {
          "base_uri": "https://localhost:8080/"
        },
        "id": "BKyiLWtJdU79",
        "outputId": "6018ad25-5188-49a1-f28b-4dbc2cf2e1b6"
      },
      "outputs": [
        {
          "output_type": "execute_result",
          "data": {
            "text/plain": [
              "[5, 4, 3, 2, 1]"
            ]
          },
          "metadata": {},
          "execution_count": 32
        }
      ],
      "source": [
        "v = [1,2,3,4,5]\n",
        "v[::-1]"
      ]
    },
    {
      "cell_type": "markdown",
      "metadata": {
        "id": "CjoBx2JYSkNI"
      },
      "source": [
        "### 3. Funciones universales y broadcasting"
      ]
    },
    {
      "cell_type": "markdown",
      "metadata": {
        "id": "EFkeF9zJSkNK"
      },
      "source": [
        "Las funciones matemáticas en NumPy tienen un comportamiento muy uniforme: se aplican a todos los elementos del array. Esto hace que prácticamente nunca sea necesario iterar por los arrays. Por ejemplo, si queremos saber la raíz cuadrada de cada elemento de z, simplemente hacemos:"
      ]
    },
    {
      "cell_type": "code",
      "execution_count": 33,
      "metadata": {
        "colab": {
          "base_uri": "https://localhost:8080/"
        },
        "id": "89nLciLdSkNL",
        "outputId": "71a692f2-147f-4494-dff3-fa781fd755ae"
      },
      "outputs": [
        {
          "output_type": "execute_result",
          "data": {
            "text/plain": [
              "array([[1.        , 1.41421356, 1.73205081],\n",
              "       [0.        , 2.23606798, 0.        ],\n",
              "       [2.64575131, 2.82842712, 3.        ],\n",
              "       [3.16227766, 3.31662479, 3.46410162]])"
            ]
          },
          "metadata": {},
          "execution_count": 33
        }
      ],
      "source": [
        "np.sqrt(z)"
      ]
    },
    {
      "cell_type": "markdown",
      "metadata": {
        "id": "PTbkL1D8SkNS"
      },
      "source": [
        "Si queremos sumarle 1 a todos los elementos de z..."
      ]
    },
    {
      "cell_type": "code",
      "execution_count": 34,
      "metadata": {
        "colab": {
          "base_uri": "https://localhost:8080/"
        },
        "id": "vpdhs5-CSkNS",
        "outputId": "79199839-9aa7-49e8-86cf-b9500cfda612"
      },
      "outputs": [
        {
          "output_type": "execute_result",
          "data": {
            "text/plain": [
              "array([[ 2,  3,  4],\n",
              "       [ 1,  6,  1],\n",
              "       [ 8,  9, 10],\n",
              "       [11, 12, 13]])"
            ]
          },
          "metadata": {},
          "execution_count": 34
        }
      ],
      "source": [
        "z+1"
      ]
    },
    {
      "cell_type": "markdown",
      "metadata": {
        "id": "ZQFACChQSkNZ"
      },
      "source": [
        "En el paso anterior, intervino uno de los aspectos más interesantes de NumPy: el _broadcasting_. Cuando una operación involucra dos elementos con diferentes dimensiones (en el caso anterior, una matriz y un escalar), NumPy intenta \"completar\" las dimensiones de forma inteligente (en el caso anterior, transformando el escalar 1 en una matriz de 3x3 con 1s).\n",
        "\n",
        "Antes de continuar con el broadcasting, un comentario importante: el objetivo principal de NumPy es realizar de forma _eficiente_ operaciones aritméticas. Por eso, para realizar operaciones sobre matrices siempre es conveniente utilizar las operaciones de NumPy y no hacerlo \"a mano\" utilizando loops. Comparemos los tiempos de la operación anterior versus un loop doble que suma 1 a cada elemento de z (y que, por supuesto, obtiene el mismo resultado)."
      ]
    },
    {
      "cell_type": "code",
      "source": [
        "%%timeit -n 100000\n",
        "\n",
        "zmas1=np.zeros((4,3))\n",
        "for i in range(4):\n",
        "  for j in range(3):\n",
        "    zmas1[i,j] = z[i,j] + 1\n"
      ],
      "metadata": {
        "id": "gTo6h0GIllBE",
        "outputId": "9ff7e597-6bd9-405b-e437-09cf486c9bcb",
        "colab": {
          "base_uri": "https://localhost:8080/"
        }
      },
      "execution_count": 112,
      "outputs": [
        {
          "output_type": "stream",
          "name": "stdout",
          "text": [
            "7.46 µs ± 74.3 ns per loop (mean ± std. dev. of 7 runs, 100000 loops each)\n"
          ]
        }
      ]
    },
    {
      "cell_type": "code",
      "source": [
        "%%timeit -n 100000\n",
        "zmas1 = z +1"
      ],
      "metadata": {
        "id": "HuUiN0oDog53",
        "outputId": "709a7142-e373-4896-c9d9-cd4720a6e6b1",
        "colab": {
          "base_uri": "https://localhost:8080/"
        }
      },
      "execution_count": 114,
      "outputs": [
        {
          "output_type": "stream",
          "name": "stdout",
          "text": [
            "1.77 µs ± 180 ns per loop (mean ± std. dev. of 7 runs, 100000 loops each)\n"
          ]
        }
      ]
    },
    {
      "cell_type": "markdown",
      "source": [
        "Podemos ver que es _mucho_ más lenta. Lo cual es bastante obvio, si tenemos en cuenta que NumPy utiliza código de bajo nivel para optimizar la eficiencia de estas operaciones.\n",
        "\n",
        "Continuemos con el broadcasting. Intentemos sumar una matriz con dos filas y una columna y una con tres filas y dos columnas."
      ],
      "metadata": {
        "id": "0SFpZCQ1k5j2"
      }
    },
    {
      "cell_type": "code",
      "execution_count": 40,
      "metadata": {
        "colab": {
          "base_uri": "https://localhost:8080/"
        },
        "id": "HeISDW0GSkNc",
        "outputId": "e8960ad7-e89a-482b-b9ea-5717379d70c6"
      },
      "outputs": [
        {
          "output_type": "stream",
          "name": "stdout",
          "text": [
            "[[1.]\n",
            " [1.]]\n",
            "[[1. 1.]\n",
            " [1. 1.]]\n",
            "[[2. 2.]\n",
            " [2. 2.]]\n"
          ]
        }
      ],
      "source": [
        "a=np.ones((2,1))\n",
        "b=np.ones((2,2))\n",
        "\n",
        "print(a)\n",
        "print(b)\n",
        "print(a+b)"
      ]
    },
    {
      "cell_type": "markdown",
      "metadata": {
        "id": "mkLG0T0hdU8H"
      },
      "source": [
        "En este caso, como la segunda matriz tiene la misma cantidad de filas que la segunda, pero el doble de columnas, el broadcasting sumó la única columna de la primera matriz a cada una de las columnas de la segunda.\n",
        "\n",
        "Si intentáramos sumar a la matriz obtenida una matriz de 3x2, obtendríamos un error del tipo 'ValueError: operands could not be broadcast together with shapes (2,3) (4,2)'"
      ]
    },
    {
      "cell_type": "code",
      "execution_count": 75,
      "metadata": {
        "id": "KrNd_HYtSkNg"
      },
      "outputs": [],
      "source": [
        " # c=np.ones((3,2))\n",
        " # a+b+c  # Esto no funciona!"
      ]
    },
    {
      "cell_type": "markdown",
      "metadata": {
        "id": "O15Tb3SjSkNk"
      },
      "source": [
        "Siempre que se aplica una función universal, se aplica por defecto a todos los elementos del array. Por ejemplo, la siguiente función suma todos los elementos de la matriz z"
      ]
    },
    {
      "cell_type": "code",
      "execution_count": 39,
      "metadata": {
        "colab": {
          "base_uri": "https://localhost:8080/"
        },
        "id": "xU4j1XI8SkNl",
        "outputId": "efa55ee3-d77c-44d8-d4aa-20573332696b"
      },
      "outputs": [
        {
          "output_type": "stream",
          "name": "stdout",
          "text": [
            "68\n"
          ]
        }
      ],
      "source": [
        "print(np.sum(z))"
      ]
    },
    {
      "cell_type": "markdown",
      "metadata": {
        "id": "vReV3WhpSkNp"
      },
      "source": [
        "Si lo que queremos es aplicar una operación a los elementos de cada columna, agregamos el parámetro axis=0 al método correspondiente (recordamos que el axis 0 es el que se mueve por las filas, y el axis 1 por las columnas). Es importante recordar esta convención, porque es un recurso muy utilizado en NumPy para obtener subtotales o aplicar operaciones a todas las filas o columnas de una matriz."
      ]
    },
    {
      "cell_type": "code",
      "execution_count": 41,
      "metadata": {
        "colab": {
          "base_uri": "https://localhost:8080/"
        },
        "id": "TrTEP6mBSkNq",
        "outputId": "55fb719c-deb0-4377-aeda-757769c06c44"
      },
      "outputs": [
        {
          "output_type": "stream",
          "name": "stdout",
          "text": [
            "[[ 1  2  3]\n",
            " [ 0  5  0]\n",
            " [ 7  8  9]\n",
            " [10 11 12]]\n"
          ]
        },
        {
          "output_type": "execute_result",
          "data": {
            "text/plain": [
              "array([18, 26, 24])"
            ]
          },
          "metadata": {},
          "execution_count": 41
        }
      ],
      "source": [
        "print(z)\n",
        "np.sum(z, axis=0)"
      ]
    },
    {
      "cell_type": "markdown",
      "metadata": {
        "id": "Pv5vZsvFSkNv"
      },
      "source": [
        "Por supuesto, para sumar en cada filas, indicamos la segunda axis. Utilizaremos una sintaxis alternativa en este caso: cada array es un objeto con sus propios métodos."
      ]
    },
    {
      "cell_type": "code",
      "execution_count": 42,
      "metadata": {
        "colab": {
          "base_uri": "https://localhost:8080/"
        },
        "id": "mHiXsJB8SkNw",
        "outputId": "b06bd791-e9c6-4828-a7bb-3f749d3f561a"
      },
      "outputs": [
        {
          "output_type": "execute_result",
          "data": {
            "text/plain": [
              "array([ 6,  5, 24, 33])"
            ]
          },
          "metadata": {},
          "execution_count": 42
        }
      ],
      "source": [
        "z.sum(axis=1)"
      ]
    },
    {
      "cell_type": "markdown",
      "metadata": {
        "id": "msAAXzwDSkN1"
      },
      "source": [
        "### 4. Operaciones de Comparación y Máscaras"
      ]
    },
    {
      "cell_type": "markdown",
      "metadata": {
        "id": "4ebbpEsOSkN3"
      },
      "source": [
        "Una forma adicional de indexar un array es a través de una _máscara_: un vector Booleano que indica qué elementos del array elegir y cuáles descartar."
      ]
    },
    {
      "cell_type": "code",
      "execution_count": 43,
      "metadata": {
        "colab": {
          "base_uri": "https://localhost:8080/"
        },
        "id": "zksHQn3mSkN4",
        "outputId": "339dfa52-0716-4af5-811b-1b22006a140e"
      },
      "outputs": [
        {
          "output_type": "execute_result",
          "data": {
            "text/plain": [
              "array([1, 3, 4, 5])"
            ]
          },
          "metadata": {},
          "execution_count": 43
        }
      ],
      "source": [
        "a=np.array([1,2,3,4,5,6,7,8])\n",
        "mask=np.array([True, False, True, True, True, False, False, False])\n",
        "\n",
        "a[mask]\n"
      ]
    },
    {
      "cell_type": "markdown",
      "metadata": {
        "id": "M0sgDaBCSkN9"
      },
      "source": [
        "Esto no parece muy interesante, pero se vuelve muy potente cuando vemos que existen operaciones de comparación que devuelven vectores booleanos para los elementos que cumplen una cierta condición:"
      ]
    },
    {
      "cell_type": "code",
      "execution_count": 44,
      "metadata": {
        "colab": {
          "base_uri": "https://localhost:8080/"
        },
        "id": "UhlJfhCpSkN-",
        "outputId": "619d4606-81ad-475b-db4c-a7796b601e33"
      },
      "outputs": [
        {
          "output_type": "execute_result",
          "data": {
            "text/plain": [
              "array([False, False, False, False,  True,  True,  True,  True])"
            ]
          },
          "metadata": {},
          "execution_count": 44
        }
      ],
      "source": [
        "a>4"
      ]
    },
    {
      "cell_type": "code",
      "execution_count": 45,
      "metadata": {
        "colab": {
          "base_uri": "https://localhost:8080/"
        },
        "id": "JYcommRUSkOC",
        "outputId": "b5f291bf-9319-43c4-9eb9-837dff915a99"
      },
      "outputs": [
        {
          "output_type": "execute_result",
          "data": {
            "text/plain": [
              "array([5, 6, 7, 8])"
            ]
          },
          "metadata": {},
          "execution_count": 45
        }
      ],
      "source": [
        "a[a>4]"
      ]
    },
    {
      "cell_type": "markdown",
      "metadata": {
        "id": "G71GwMF2SkOI"
      },
      "source": [
        "Es posible combinar condiciones on operaciones booleanas & (and) y | (or):"
      ]
    },
    {
      "cell_type": "code",
      "execution_count": 47,
      "metadata": {
        "colab": {
          "base_uri": "https://localhost:8080/"
        },
        "id": "FxQC2LZtSkOJ",
        "outputId": "5635ffbf-3a9e-4753-a142-68d1b8ae3cdb"
      },
      "outputs": [
        {
          "output_type": "stream",
          "name": "stdout",
          "text": [
            "[6]\n"
          ]
        }
      ],
      "source": [
        "print(a[(a>4) & (a%3==0)])"
      ]
    },
    {
      "cell_type": "markdown",
      "metadata": {
        "id": "OwrIVGE8SkON"
      },
      "source": [
        "Se puede utilizar también la función `np.where` para transformar cada elemento de un array, devolviendo un valor en caso de cumplirse la condición, y otro en caso de no ser así."
      ]
    },
    {
      "cell_type": "code",
      "execution_count": 48,
      "metadata": {
        "colab": {
          "base_uri": "https://localhost:8080/"
        },
        "id": "G17NNRheSkOP",
        "outputId": "95efcd6d-1da0-4989-9326-5da424088bda"
      },
      "outputs": [
        {
          "output_type": "execute_result",
          "data": {
            "text/plain": [
              "array([[0, 1, 1],\n",
              "       [0, 1, 0],\n",
              "       [1, 1, 1],\n",
              "       [1, 1, 1]])"
            ]
          },
          "metadata": {},
          "execution_count": 48
        }
      ],
      "source": [
        "np.where(z>1,1,0) # Devuelvo una matriz con un 1 en las posiciones donde la matriz original tiene un valor mayor a 1"
      ]
    },
    {
      "cell_type": "markdown",
      "metadata": {
        "id": "MQl_S03eSkOT"
      },
      "source": [
        "### 5. Reshaping y concatenación"
      ]
    },
    {
      "cell_type": "markdown",
      "metadata": {
        "id": "XDyOdMaxSkOU"
      },
      "source": [
        "NumPy provee formas de cambiar la forma a un array. Esto es muy importante porque, aunque los arrays tienen tamaño fijo, su forma puede cambiar sin necesidad de tener que copiar a un nuevo espacio de memoria los valores (algo que podría ser muy costoso en el caso de arrays muy grandes)."
      ]
    },
    {
      "cell_type": "code",
      "execution_count": 50,
      "metadata": {
        "colab": {
          "base_uri": "https://localhost:8080/"
        },
        "id": "vc2J9QO1SkOW",
        "outputId": "0fe5565c-d67f-4a44-b898-3271531f9cc1"
      },
      "outputs": [
        {
          "output_type": "execute_result",
          "data": {
            "text/plain": [
              "array([[ 1,  2],\n",
              "       [ 3,  0],\n",
              "       [ 5,  0],\n",
              "       [ 7,  8],\n",
              "       [ 9, 10],\n",
              "       [11, 12]])"
            ]
          },
          "metadata": {},
          "execution_count": 50
        }
      ],
      "source": [
        "zprima=z.reshape((6,2))\n",
        "zprima"
      ]
    },
    {
      "cell_type": "markdown",
      "metadata": {
        "id": "u5Cf7Yz4SkOZ"
      },
      "source": [
        "Tenga en cuenta que las operaciones sobre arrays en NumPy generalmente devuelven una _vista_ nueva (es decir, no se hace una copia). En el ejemplo anterior, verificamos la forma de z."
      ]
    },
    {
      "cell_type": "code",
      "execution_count": 51,
      "metadata": {
        "colab": {
          "base_uri": "https://localhost:8080/"
        },
        "id": "J-6oQjfuSkOa",
        "outputId": "93311b1f-9a56-47b5-c8fb-872ccb71dd5a"
      },
      "outputs": [
        {
          "output_type": "execute_result",
          "data": {
            "text/plain": [
              "array([[ 1,  2,  3],\n",
              "       [ 0,  5,  0],\n",
              "       [ 7,  8,  9],\n",
              "       [10, 11, 12]])"
            ]
          },
          "metadata": {},
          "execution_count": 51
        }
      ],
      "source": [
        "z"
      ]
    },
    {
      "cell_type": "code",
      "execution_count": 52,
      "metadata": {
        "colab": {
          "base_uri": "https://localhost:8080/"
        },
        "id": "vcZzN8GpSkOf",
        "outputId": "d51b68e1-dcbb-41f3-f95b-5d4430a6a577"
      },
      "outputs": [
        {
          "output_type": "execute_result",
          "data": {
            "text/plain": [
              "True"
            ]
          },
          "metadata": {},
          "execution_count": 52
        }
      ],
      "source": [
        "np.may_share_memory(z,zprima)"
      ]
    },
    {
      "cell_type": "markdown",
      "metadata": {
        "id": "z_ZybrHfSkO5"
      },
      "source": [
        "z y zprima son diferentes vistas sobre la misma zona de memoria.  Esto es muy importante desde el punto de vista de la eficiencia."
      ]
    },
    {
      "cell_type": "markdown",
      "metadata": {
        "id": "lCi6vzfsSkO7"
      },
      "source": [
        "¿Qué pasa si queremos agregar una nueva dimensión a las que tiene z? Por ejemplo, hacer reshape a (2,2,3)."
      ]
    },
    {
      "cell_type": "code",
      "execution_count": 53,
      "metadata": {
        "colab": {
          "base_uri": "https://localhost:8080/"
        },
        "id": "pP1d7UJESkO8",
        "outputId": "e2930a02-7faf-468a-b772-afb6b54dcc05"
      },
      "outputs": [
        {
          "output_type": "execute_result",
          "data": {
            "text/plain": [
              "array([[[ 1,  2,  3],\n",
              "        [ 0,  5,  0]],\n",
              "\n",
              "       [[ 7,  8,  9],\n",
              "        [10, 11, 12]]])"
            ]
          },
          "metadata": {},
          "execution_count": 53
        }
      ],
      "source": [
        "zsegunda=z.reshape((2,2,3))\n",
        "zsegunda"
      ]
    },
    {
      "cell_type": "markdown",
      "metadata": {
        "id": "9pjfXBYtSkPB"
      },
      "source": [
        "Podemos utilizar -1 en un axis para que NumPy asegure que el número total de elementos se mantenga:"
      ]
    },
    {
      "cell_type": "code",
      "execution_count": 54,
      "metadata": {
        "colab": {
          "base_uri": "https://localhost:8080/"
        },
        "id": "d-NKechnSkPD",
        "outputId": "0848de85-fa77-4242-d4d9-5da3ff9b91c1"
      },
      "outputs": [
        {
          "output_type": "execute_result",
          "data": {
            "text/plain": [
              "array([[[ 1,  2,  3],\n",
              "        [ 0,  5,  0]],\n",
              "\n",
              "       [[ 7,  8,  9],\n",
              "        [10, 11, 12]]])"
            ]
          },
          "metadata": {},
          "execution_count": 54
        }
      ],
      "source": [
        "ztercera=z.reshape((2,2,-1))\n",
        "ztercera"
      ]
    },
    {
      "cell_type": "markdown",
      "metadata": {
        "id": "3ikt3SMKSkPI"
      },
      "source": [
        "Si queremos concatenar dos arrays, usamos `np.concatenate`. Atención: esto puede ser ineficiente, porque devuelve una copia (ya que cambia el tamaño total). Como antes, el parámetro `axis` permite especificar por qué dimensión deben concatenarse los arrays."
      ]
    },
    {
      "cell_type": "code",
      "execution_count": 55,
      "metadata": {
        "colab": {
          "base_uri": "https://localhost:8080/"
        },
        "id": "PTEWIh7sSkPJ",
        "outputId": "20e37b28-c389-4ef2-ee4b-2ffca2f94a12"
      },
      "outputs": [
        {
          "output_type": "execute_result",
          "data": {
            "text/plain": [
              "array([[ 1,  2,  3],\n",
              "       [ 0,  5,  0],\n",
              "       [ 7,  8,  9],\n",
              "       [10, 11, 12],\n",
              "       [ 1,  2,  3],\n",
              "       [ 0,  5,  0],\n",
              "       [ 7,  8,  9],\n",
              "       [10, 11, 12]])"
            ]
          },
          "metadata": {},
          "execution_count": 55
        }
      ],
      "source": [
        "# Por defecto, se concatena por axis=0, es decir por las filas\n",
        "np.concatenate((z,z))"
      ]
    },
    {
      "cell_type": "code",
      "execution_count": 56,
      "metadata": {
        "colab": {
          "base_uri": "https://localhost:8080/"
        },
        "id": "p59d6-cNSkPO",
        "outputId": "9cba3c3c-fb29-4aeb-b433-619dc6ef74c9"
      },
      "outputs": [
        {
          "output_type": "execute_result",
          "data": {
            "text/plain": [
              "array([[ 1,  2,  3,  1,  2,  3],\n",
              "       [ 0,  5,  0,  0,  5,  0],\n",
              "       [ 7,  8,  9,  7,  8,  9],\n",
              "       [10, 11, 12, 10, 11, 12]])"
            ]
          },
          "metadata": {},
          "execution_count": 56
        }
      ],
      "source": [
        "np.concatenate((z,z), axis=1)"
      ]
    },
    {
      "cell_type": "markdown",
      "metadata": {
        "id": "KNCc8VXBdU8i"
      },
      "source": [
        "Otra forma útil de explícitamente concatenar vertical u horizontalmente vectores o matrices es a través del uso de `vstack` (pila vertical) o `hstack` (concatenación horizontal). Veamos algunos ejemplos:"
      ]
    },
    {
      "cell_type": "code",
      "execution_count": 57,
      "metadata": {
        "colab": {
          "base_uri": "https://localhost:8080/"
        },
        "id": "uKLjuxX7dU8j",
        "outputId": "88dd7015-0dcf-475f-c7ed-a71c2b1f4e7d"
      },
      "outputs": [
        {
          "output_type": "stream",
          "name": "stdout",
          "text": [
            "[[1. 1. 1.]\n",
            " [0. 0. 0.]]\n",
            "[1. 1. 1. 0. 0. 0.]\n"
          ]
        }
      ],
      "source": [
        "v1 = np.ones(3)\n",
        "v2 = np.zeros(3)\n",
        "\n",
        "print(np.vstack((v1,v2)))\n",
        "print(np.hstack((v1,v2)))"
      ]
    },
    {
      "cell_type": "code",
      "execution_count": 58,
      "metadata": {
        "colab": {
          "base_uri": "https://localhost:8080/"
        },
        "id": "s3FPaHO9dU8k",
        "outputId": "728a32c7-c8f9-43a1-a642-65607d76f2af"
      },
      "outputs": [
        {
          "output_type": "stream",
          "name": "stdout",
          "text": [
            "[[1 2]\n",
            " [3 4]\n",
            " [3 1]\n",
            " [3 2]]\n"
          ]
        }
      ],
      "source": [
        "# También funciona con matrices\n",
        "m1 = np.array([[1,2],[3,4]])\n",
        "m2 = np.array([[3,1],[3,2]])\n",
        "\n",
        "print(np.vstack((m1,m2)))"
      ]
    },
    {
      "cell_type": "markdown",
      "metadata": {
        "id": "p5nDcyS9SkPS"
      },
      "source": [
        "### 6. Producto interno de vectores y multiplicación de matrices"
      ]
    },
    {
      "cell_type": "markdown",
      "metadata": {
        "id": "W7uwOuTuSkPT"
      },
      "source": [
        "NumPy provee funciones básicas de álgebra lineal. Hasta ahora hemos visto cómo crear y manipular vectores y matrices. Veamos algunas operaciones algebraicas que podemos aplicar.\n",
        "\n",
        "Tengamos primero en cuenta que los arrays unidimensionales en Python no tienen, conceptualmente, \"una fila\" o \"una columna\", ya que solamente tienen (por definición) una dimensión. De todas formas, el mecanismo de brodcasting los transformará en una matriz $n\\times 1$ o $1\\times n$ según sea necesario para la operación."
      ]
    },
    {
      "cell_type": "code",
      "execution_count": 77,
      "metadata": {
        "colab": {
          "base_uri": "https://localhost:8080/"
        },
        "id": "wIGwtbJzSkPU",
        "outputId": "0909120b-5121-4900-cb21-f66f734060b1"
      },
      "outputs": [
        {
          "output_type": "execute_result",
          "data": {
            "text/plain": [
              "(3,)"
            ]
          },
          "metadata": {},
          "execution_count": 77
        }
      ],
      "source": [
        "v=np.array([10,10,10])\n",
        "v.shape"
      ]
    },
    {
      "cell_type": "code",
      "execution_count": 79,
      "metadata": {
        "colab": {
          "base_uri": "https://localhost:8080/"
        },
        "id": "kmhGBNSKSkPa",
        "outputId": "7a472a5e-fecb-4fe4-db59-78009fa270de"
      },
      "outputs": [
        {
          "output_type": "execute_result",
          "data": {
            "text/plain": [
              "array([[1, 2, 3],\n",
              "       [0, 5, 0]])"
            ]
          },
          "metadata": {},
          "execution_count": 79
        }
      ],
      "source": [
        "# Construimos una matriz con las tres primeras filas de la matriz z\n",
        "m=z[:2,:]\n",
        "m"
      ]
    },
    {
      "cell_type": "markdown",
      "metadata": {
        "id": "soQnxJC8SkPd"
      },
      "source": [
        "Para sumar dos matrices, sus tamaños deben ser compatibles, o permitir hacer broadcasting. Y luego, la operación se hace elemento a elemento"
      ]
    },
    {
      "cell_type": "code",
      "execution_count": 80,
      "metadata": {
        "colab": {
          "base_uri": "https://localhost:8080/"
        },
        "id": "YgGnkyUwSkPe",
        "outputId": "ade73393-3ab1-40f4-cc00-6590a4abacbd"
      },
      "outputs": [
        {
          "output_type": "execute_result",
          "data": {
            "text/plain": [
              "array([[11, 12, 13],\n",
              "       [10, 15, 10]])"
            ]
          },
          "metadata": {},
          "execution_count": 80
        }
      ],
      "source": [
        "m+v"
      ]
    },
    {
      "cell_type": "code",
      "execution_count": 81,
      "metadata": {
        "colab": {
          "base_uri": "https://localhost:8080/"
        },
        "id": "jeRs8Ed3SkPi",
        "outputId": "38ad62e9-cd00-4027-b7d7-16c67d5840b3"
      },
      "outputs": [
        {
          "output_type": "execute_result",
          "data": {
            "text/plain": [
              "((2, 3), (3,), (2, 3))"
            ]
          },
          "metadata": {},
          "execution_count": 81
        }
      ],
      "source": [
        "m.shape, v.shape, (m+v).shape"
      ]
    },
    {
      "cell_type": "markdown",
      "metadata": {
        "id": "RsKYOWuJdU8r"
      },
      "source": [
        "En el ejemplo anterior, la matriz tiene dimensiones 2x3 (2 filas, 3 columnas), por lo que NumPy considera al vector a como una matriz de 1x3 (es decir, como un vector fila), y lo replicará dos veces para sumarlo a cada una de las filas de w y así obtener nuevamente una matriz 2x3. Sin embargo, si intentamos sumar la matriz traspuesta de w (i.e. aquella que tiene intercambiadas columnas y filas), la operación fallará, por la forma en la que funciona el broadcasting.  [Aquí](https://numpy.org/doc/stable/user/basics.broadcasting.html) puede ver en detalle los mecanismos de broadcasting de NumPy.\n",
        "\n",
        "Podemos multiplicar, de esta forma, un escalar por una matriz:"
      ]
    },
    {
      "cell_type": "code",
      "execution_count": 82,
      "metadata": {
        "colab": {
          "base_uri": "https://localhost:8080/"
        },
        "id": "mox9qgFOSkPq",
        "outputId": "962092b5-fc32-4692-e9e3-ac5ddf820192"
      },
      "outputs": [
        {
          "output_type": "execute_result",
          "data": {
            "text/plain": [
              "array([[ 8, 16, 24],\n",
              "       [ 0, 40,  0]])"
            ]
          },
          "metadata": {},
          "execution_count": 82
        }
      ],
      "source": [
        "m*8"
      ]
    },
    {
      "cell_type": "markdown",
      "metadata": {
        "id": "3uXUquAzdU8s"
      },
      "source": [
        "Es posible calcular en NumPy el producto interno entre dos vectores, utilizando la operación `dot`. Dados los vectores $v$ y $w$, ambos de dimensión n, su producto interno $v \\cdot w$ = $\\sum_{1}^{n} v_n \\times w_n$, siendo $v_i$ y $w_i$ los elementos en la posición $i$ en $v$ y $w$, respectivamente."
      ]
    },
    {
      "cell_type": "code",
      "execution_count": 83,
      "metadata": {
        "colab": {
          "base_uri": "https://localhost:8080/"
        },
        "id": "Wsj8VLxtdU8s",
        "outputId": "f73f1435-6f04-4da4-cfba-2f230d6181a4"
      },
      "outputs": [
        {
          "output_type": "execute_result",
          "data": {
            "text/plain": [
              "np.int64(3)"
            ]
          },
          "metadata": {},
          "execution_count": 83
        }
      ],
      "source": [
        "v1 = np.array([1,2,3])\n",
        "v2 = np.array([1,1,0])\n",
        "\n",
        "np.dot(v1,v2)"
      ]
    },
    {
      "cell_type": "markdown",
      "metadata": {
        "id": "npJgwfabSkP0"
      },
      "source": [
        "También es posible en NumPy hacer productos de matrices (es decir, tensores de dimensión 2). Dado $A(n,p)$ y $B(p,m)$, $A.B=C$, donde $C=((c_{ij}))$ and $c_{ij}=\\Sigma_{h=1}^p a_{ih}b_{hj}$. El producto entre matrices puede verse como la composición de las transformaciones lineales que cada una representa. Para que la multiplicación de matrices funcione, sus dimensiones deben ser compatibles: si tenemos una matriz de dimensiones mxn, y la multiplicamos por otra matrix pxq, necesariamente p debe ser igual a q, y la matriz resultado tendrá dimensiones mxq.\n",
        "\n"
      ]
    },
    {
      "cell_type": "code",
      "execution_count": 85,
      "metadata": {
        "colab": {
          "base_uri": "https://localhost:8080/"
        },
        "id": "m30T5SL2dU8u",
        "outputId": "632e7245-d39a-4b79-d969-fd5d0ae8834f"
      },
      "outputs": [
        {
          "output_type": "execute_result",
          "data": {
            "text/plain": [
              "array([[16., 20.],\n",
              "       [16., 20.],\n",
              "       [16., 20.]])"
            ]
          },
          "metadata": {},
          "execution_count": 85
        }
      ],
      "source": [
        "m1 = np.ones((3,4)) # Matriz de 3x4\n",
        "m2 = np.array([[1,2],[3,4],[5,6],[7,8]]) # Matriz de 4x2\n",
        "\n",
        "np.matmul(m1,m2) # w1@w2 es equivalente; np.dot(w1,w2) también funciona, pero no se recomienda"
      ]
    },
    {
      "cell_type": "markdown",
      "metadata": {
        "id": "Uxk3YZ_bdU8u"
      },
      "source": [
        "Si intentamos multiplicar el vector v por la matriz m, no funcionará, porque sus dimensiones son incompatibles: el vector puede verse como de  dimensiones 1x3, y la matriz tiene dimensiones 2x3... y justamente el error que obtendremos es:  `ValueError: shapes (3,) and (2,3) not aligned: 3 (dim 0) != 2 (dim 0)`"
      ]
    },
    {
      "cell_type": "code",
      "execution_count": 86,
      "metadata": {
        "id": "PAmaeGxhSkP1"
      },
      "outputs": [],
      "source": [
        "# np.dot(a,w) # No funciona"
      ]
    },
    {
      "cell_type": "markdown",
      "metadata": {
        "id": "b_rzosf0dU8w"
      },
      "source": [
        "Pero veamos qué sucede si cambiamos el orden de las matrices:"
      ]
    },
    {
      "cell_type": "code",
      "execution_count": 88,
      "metadata": {
        "colab": {
          "base_uri": "https://localhost:8080/"
        },
        "id": "J9R9Z_5NSkP4",
        "outputId": "5cdcb7ba-36f1-42fd-ee45-2401b33ab697"
      },
      "outputs": [
        {
          "output_type": "stream",
          "name": "stdout",
          "text": [
            "[[1 2 3]\n",
            " [0 5 0]]\n",
            "[10 10 10]\n"
          ]
        },
        {
          "output_type": "execute_result",
          "data": {
            "text/plain": [
              "array([60, 50])"
            ]
          },
          "metadata": {},
          "execution_count": 88
        }
      ],
      "source": [
        "print(m)\n",
        "print(v)\n",
        "np.matmul(m,v)"
      ]
    },
    {
      "cell_type": "markdown",
      "metadata": {
        "id": "33Mne4ttSkP7"
      },
      "source": [
        "En este caso, las dimensiones de las matrices sí son compatibles, ya que m tiene dimensión $2 \\times 3$, y v puede verse como una matriz $4 \\times 1$, por lo que obtendremos una matriz de dimensiones 2x1 como resultado (en realidad... un vector). El uso de \"puede verse\" no es casual... podría ser también 1x4, de ser necesario. Veamos cómo luce `v.transpose()`:"
      ]
    },
    {
      "cell_type": "code",
      "execution_count": 89,
      "metadata": {
        "colab": {
          "base_uri": "https://localhost:8080/"
        },
        "id": "KpnuacIXSkP7",
        "outputId": "68f85fba-0812-40ab-e9c5-f2f4bb03e5cf"
      },
      "outputs": [
        {
          "output_type": "execute_result",
          "data": {
            "text/plain": [
              "array([10, 10, 10])"
            ]
          },
          "metadata": {},
          "execution_count": 89
        }
      ],
      "source": [
        "v.transpose()"
      ]
    },
    {
      "cell_type": "markdown",
      "metadata": {
        "id": "Uj3M03QuSkQA"
      },
      "source": [
        "Tal vez esperábamos un \"array columna\", pero tal concepto no existe. Si quisiéramos explícitamente hacerlo, debemos aumentar una dimensión, para tener una matriz (4,1). El operador `np.newaxis` nos permite hacerlo:"
      ]
    },
    {
      "cell_type": "code",
      "execution_count": 90,
      "metadata": {
        "colab": {
          "base_uri": "https://localhost:8080/"
        },
        "id": "poCDqRilSkQB",
        "outputId": "07489a2b-c7e2-4db4-f008-7d8418f85ab8"
      },
      "outputs": [
        {
          "output_type": "execute_result",
          "data": {
            "text/plain": [
              "array([[10],\n",
              "       [10],\n",
              "       [10]])"
            ]
          },
          "metadata": {},
          "execution_count": 90
        }
      ],
      "source": [
        "a[:,np.newaxis]"
      ]
    },
    {
      "cell_type": "markdown",
      "metadata": {
        "id": "9hCo1XVRSkQE"
      },
      "source": [
        "Observemos que, si la nueva dimensión la creamos en las filas, en realidad obtenemos una matrix de dimensión (1,4) (que no es lo mismo que el array original, aunque lo parezca)"
      ]
    },
    {
      "cell_type": "code",
      "execution_count": 91,
      "metadata": {
        "colab": {
          "base_uri": "https://localhost:8080/"
        },
        "id": "MZ0bhYxJSkQF",
        "outputId": "e208f662-bf19-46e3-b403-7c64102f874b"
      },
      "outputs": [
        {
          "output_type": "execute_result",
          "data": {
            "text/plain": [
              "((1, 3), array([[10, 10, 10]]))"
            ]
          },
          "metadata": {},
          "execution_count": 91
        }
      ],
      "source": [
        "a[np.newaxis,:].shape,a[np.newaxis,:]\n"
      ]
    },
    {
      "cell_type": "markdown",
      "metadata": {
        "id": "gs6zej3ISkQJ"
      },
      "source": [
        "Si multiplicamos dos vectores, obtenemos simplemente su producto interno:"
      ]
    },
    {
      "cell_type": "code",
      "execution_count": 92,
      "metadata": {
        "colab": {
          "base_uri": "https://localhost:8080/"
        },
        "id": "LeEgrb_ZSkQK",
        "outputId": "6bdc979b-885a-48e0-ebf1-db198ee04cc1"
      },
      "outputs": [
        {
          "output_type": "execute_result",
          "data": {
            "text/plain": [
              "np.int64(11)"
            ]
          },
          "metadata": {},
          "execution_count": 92
        }
      ],
      "source": [
        "a=[1,2,3,4]\n",
        "b=[-1,1,2,1]\n",
        "np.dot(a,b)"
      ]
    },
    {
      "cell_type": "markdown",
      "metadata": {
        "id": "gL0mDUglSkQN"
      },
      "source": [
        "### 7. Polinomios"
      ]
    },
    {
      "cell_type": "markdown",
      "metadata": {
        "id": "dqgXAUddSkQO"
      },
      "source": [
        "NumPy permite trabajar directamente con polinomios. Un polinomio puede definirse como un vector y, por ejemplo, obtener su raíces utilizando el método `np.roots`. Por ejemplo, para obtener las raices (complejas) del polinomio $x^2 + 1$."
      ]
    },
    {
      "cell_type": "code",
      "execution_count": 93,
      "metadata": {
        "colab": {
          "base_uri": "https://localhost:8080/"
        },
        "id": "w-k96aipSkQO",
        "outputId": "3ba5f888-3f41-4669-a5dc-e9b59c9ab0f9"
      },
      "outputs": [
        {
          "output_type": "execute_result",
          "data": {
            "text/plain": [
              "array([-0.+1.j,  0.-1.j])"
            ]
          },
          "metadata": {},
          "execution_count": 93
        }
      ],
      "source": [
        "np.roots([1,0,1])"
      ]
    },
    {
      "cell_type": "markdown",
      "metadata": {
        "id": "fFlN6f-ySkQT"
      },
      "source": [
        "A la inversa, podemos obtener, a partir de las raíces polinomiales, los coeficientes del polinomio"
      ]
    },
    {
      "cell_type": "code",
      "execution_count": 94,
      "metadata": {
        "colab": {
          "base_uri": "https://localhost:8080/"
        },
        "id": "Nzse3p_FSkQU",
        "outputId": "c060dced-058b-499d-8aae-300aecc84d86"
      },
      "outputs": [
        {
          "output_type": "execute_result",
          "data": {
            "text/plain": [
              "array([ 1., -6.,  8.,  0.])"
            ]
          },
          "metadata": {},
          "execution_count": 94
        }
      ],
      "source": [
        "np.poly([0,2,4])"
      ]
    },
    {
      "cell_type": "markdown",
      "metadata": {
        "id": "PGrSZOtpSkQZ"
      },
      "source": [
        "En este caso, el resultado es $x^3 -6x^2 + 8x$"
      ]
    },
    {
      "cell_type": "markdown",
      "metadata": {
        "id": "PaB90xhlSkQZ"
      },
      "source": [
        "Podemos también evaluar un polinomio en un punto dado. Verifiquemos que, efectivamente, 2 es una raíz del polinomio obtenido en el paso anterior."
      ]
    },
    {
      "cell_type": "code",
      "execution_count": 95,
      "metadata": {
        "colab": {
          "base_uri": "https://localhost:8080/"
        },
        "id": "U6v1AuBeSkQa",
        "outputId": "c9f1e583-106c-4c27-aaf0-edf32f83086d"
      },
      "outputs": [
        {
          "output_type": "execute_result",
          "data": {
            "text/plain": [
              "np.int64(0)"
            ]
          },
          "metadata": {},
          "execution_count": 95
        }
      ],
      "source": [
        "np.polyval([1,-6,8,0], 2)"
      ]
    },
    {
      "cell_type": "markdown",
      "metadata": {
        "id": "448sixKWSkQc"
      },
      "source": [
        "Solo utilizando NumPy es posible ajustar un polinomio de cualquier orden especificado a un conjunto de valores dados (utilizando el método de mínimos cuadrados). Para ello, utilizamos el método `np.polyfit`, especificando las coordenadas x e y de cada punto a interpolar. Por ejemplo, para interpolar los puntos (0,0), (1,1.2), (2.1,4.1) con un polinomio de orden 2:"
      ]
    },
    {
      "cell_type": "code",
      "execution_count": 96,
      "metadata": {
        "colab": {
          "base_uri": "https://localhost:8080/"
        },
        "id": "kk1kJlwdSkQd",
        "outputId": "5f1c9329-af42-41c7-b4e1-4e2d71716fc6"
      },
      "outputs": [
        {
          "output_type": "stream",
          "name": "stdout",
          "text": [
            "[ 6.83982684e-01  5.16017316e-01 -4.48691293e-16]\n"
          ]
        }
      ],
      "source": [
        "fit=np.polyfit([0,1,2.1],[0,1.2,4.1],2)\n",
        "print(fit)"
      ]
    },
    {
      "cell_type": "markdown",
      "metadata": {
        "id": "LlTlmWEiSkQh"
      },
      "source": [
        "### 8. Números aleatorios"
      ]
    },
    {
      "cell_type": "markdown",
      "metadata": {
        "id": "Hzf3IYjFSkQi"
      },
      "source": [
        "NumPy incluye rutinas para la generación de números pseudoaleatorios, que se generan en forma determinista a partir de una semilla, pero que tienen propiedades similares a una secuencia realmente aleatoria. El módulo `random` permite acceder a las rutinas adecuadas.\n",
        "\n",
        "Lo primero que debemos hacer es setear la semilla (al menos, si queremos que el proceso sea reproducible)"
      ]
    },
    {
      "cell_type": "code",
      "execution_count": 97,
      "metadata": {
        "id": "nacSuwYGSkQj"
      },
      "outputs": [],
      "source": [
        "np.random.seed(42)"
      ]
    },
    {
      "cell_type": "markdown",
      "metadata": {
        "id": "d5wg8vRrSkQm"
      },
      "source": [
        "Con esto, podemos, por ejemplo, generar una array de números aleatorios con distribución U\\[0,1) (uniforme entre 0 y 1), o una matriz,... o un escalar"
      ]
    },
    {
      "cell_type": "code",
      "execution_count": 98,
      "metadata": {
        "colab": {
          "base_uri": "https://localhost:8080/"
        },
        "id": "pnsYDzO5SkQn",
        "outputId": "29ef48f3-a8ad-4595-901e-30758c7b756a"
      },
      "outputs": [
        {
          "output_type": "execute_result",
          "data": {
            "text/plain": [
              "array([0.37454012, 0.95071431, 0.73199394, 0.59865848, 0.15601864])"
            ]
          },
          "metadata": {},
          "execution_count": 98
        }
      ],
      "source": [
        "np.random.rand(5)"
      ]
    },
    {
      "cell_type": "code",
      "execution_count": 99,
      "metadata": {
        "colab": {
          "base_uri": "https://localhost:8080/"
        },
        "id": "S8V6u5XrSkQq",
        "outputId": "aac3cdd5-d074-4f03-8227-a49c8bad17d9"
      },
      "outputs": [
        {
          "output_type": "execute_result",
          "data": {
            "text/plain": [
              "array([[0.15599452, 0.05808361],\n",
              "       [0.86617615, 0.60111501]])"
            ]
          },
          "metadata": {},
          "execution_count": 99
        }
      ],
      "source": [
        "np.random.rand(2,2)\n"
      ]
    },
    {
      "cell_type": "code",
      "execution_count": 100,
      "metadata": {
        "colab": {
          "base_uri": "https://localhost:8080/"
        },
        "id": "d28upMatSkQt",
        "outputId": "e57ceb05-9826-47d0-f034-77b3674bd4ee"
      },
      "outputs": [
        {
          "output_type": "execute_result",
          "data": {
            "text/plain": [
              "0.7080725777960455"
            ]
          },
          "metadata": {},
          "execution_count": 100
        }
      ],
      "source": [
        "np.random.rand()"
      ]
    },
    {
      "cell_type": "markdown",
      "metadata": {
        "id": "5ypLhXgUSkQw"
      },
      "source": [
        "Si queremos especificar el rango, usamos `randint` (con mínimo y máximo del rango como argumentos)"
      ]
    },
    {
      "cell_type": "code",
      "execution_count": 101,
      "metadata": {
        "colab": {
          "base_uri": "https://localhost:8080/"
        },
        "id": "8L3SZ_FISkQy",
        "outputId": "95761023-bff1-4702-e286-fd55b40e7e75"
      },
      "outputs": [
        {
          "output_type": "execute_result",
          "data": {
            "text/plain": [
              "4"
            ]
          },
          "metadata": {},
          "execution_count": 101
        }
      ],
      "source": [
        "np.random.randint(5)"
      ]
    },
    {
      "cell_type": "markdown",
      "metadata": {
        "id": "gGXaZ06vSkQ4"
      },
      "source": [
        "Si queremos especificar otras distribuciones, en el módulo hay disponibles muchos generadores diferentes. Por ejemplo:"
      ]
    },
    {
      "cell_type": "code",
      "execution_count": 102,
      "metadata": {
        "colab": {
          "base_uri": "https://localhost:8080/"
        },
        "id": "ylmQU2ffSkQ6",
        "outputId": "acd7abd2-f6f6-419d-eaa6-51a57b9000a0"
      },
      "outputs": [
        {
          "output_type": "execute_result",
          "data": {
            "text/plain": [
              "-0.580878134023515"
            ]
          },
          "metadata": {},
          "execution_count": 102
        }
      ],
      "source": [
        "np.random.normal(0, 1)"
      ]
    },
    {
      "cell_type": "markdown",
      "metadata": {
        "id": "IBKT_o4nSkQ-"
      },
      "source": [
        "Genera un número extraído de una distribución gaussiana con media 0 y desviación estándar 1.\n",
        "\n",
        "Si queremos más de un número, utilizamos el parámetro `size`:"
      ]
    },
    {
      "cell_type": "code",
      "execution_count": 103,
      "metadata": {
        "colab": {
          "base_uri": "https://localhost:8080/"
        },
        "id": "p8depDZzSkQ_",
        "outputId": "c8772d80-cb0a-4f72-a81b-cc17662b60ef"
      },
      "outputs": [
        {
          "output_type": "execute_result",
          "data": {
            "text/plain": [
              "array([-0.52516981, -0.57138017, -0.92408284, -2.61254901,  0.95036968,\n",
              "        0.81644508, -1.523876  , -0.42804606, -0.74240684, -0.7033438 ])"
            ]
          },
          "metadata": {},
          "execution_count": 103
        }
      ],
      "source": [
        "np.random.normal(0,1,size=10)"
      ]
    },
    {
      "cell_type": "markdown",
      "metadata": {
        "id": "yLhCithiSkRC"
      },
      "source": [
        "Una función interesante del módulo es `shuffle`, que permite permutar aleatoriamente una lista"
      ]
    },
    {
      "cell_type": "markdown",
      "metadata": {
        "id": "PGYJYMkHSkRD"
      },
      "source": [
        "### 9. Más NumPy"
      ]
    },
    {
      "cell_type": "markdown",
      "metadata": {
        "id": "XAo6pB6FSkRF"
      },
      "source": [
        "NumPy provee muchas funciones para álgebra lineal (`np.linalg`), ordenamiento y búsqueda (`np.sort`), estadísticas básicas, entre muchas otras. Todas utilizan los arrays aquí presentados, y la misma lógica de utilizar funciones universales como las que se presentaron.  Es sin duda la biblioteca más importante del ecosistema de Python para ciencia de datos, y entender sus fundamentos facilita  muchísimo el trabajo posterior, especialmente para las técnicas de aprendizaje automático. La biblioteca SciPy se apoya en NumPy para proveer funciones de computación científica más complicadas. Otras bibliotecas como Matplotlib, Pandas, Scikit-learn, o PyTorch, también utilizan en NumPy para sus computaciones básicas."
      ]
    }
  ],
  "metadata": {
    "colab": {
      "name": "Intro_NumPy.ipynb",
      "provenance": []
    },
    "kernelspec": {
      "display_name": "Python 3 (ipykernel)",
      "language": "python",
      "name": "python3"
    },
    "language_info": {
      "codemirror_mode": {
        "name": "ipython",
        "version": 3
      },
      "file_extension": ".py",
      "mimetype": "text/x-python",
      "name": "python",
      "nbconvert_exporter": "python",
      "pygments_lexer": "ipython3",
      "version": "3.11.11"
    }
  },
  "nbformat": 4,
  "nbformat_minor": 0
}