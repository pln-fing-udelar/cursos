{
 "cells": [
  {
   "cell_type": "markdown",
   "metadata": {
    "colab_type": "text",
    "id": "qmxOoUHSKz1-"
   },
   "source": [
    "### Álgebra Lineal con NumPy y SciPY\n",
    "\n",
    "Facultad de Ingeniería - Universidad de la República - Uruguay\n",
    "\n",
    "25 de agosto de 2025"
   ]
  },
  {
   "cell_type": "markdown",
   "metadata": {},
   "source": [
    "[![Open In Colab](https://colab.research.google.com/assets/colab-badge.svg)](https://colab.research.google.com/github/gmonce/all_of_machine_learning/blob/main/AlgebraLineal-Intro.ipynb)"
   ]
  },
  {
   "cell_type": "markdown",
   "metadata": {
    "colab_type": "text",
    "id": "Pag1HfZfKz2J"
   },
   "source": [
    "En este notebook presentaremos una breve introducción al álgebra lineal, la rama de las matemáticas que estudia las ecuaciones y transformaciones lineales, y su representación en espacios vectoriales y a través de matrices. Intentaremos ver las principales propiedades de las matrices, la intuición detrás de algunas de ellas, y mostrar cómo manipularlas utiliando las bibliotecas de Python `numpy` y `scipy` (véase [la diferencia entre ambas bibliotecas](http://www.scipy.org/scipylib/faq.html#what-is-the-difference-between-numpy-and-scipy)).\n",
    "\n",
    "\n",
    "**Prerrequisitos**\n",
    "\n",
    "- Suponemos que el lector tiene ya instalado un entorno de programación en Python\n",
    "- Suponemos que el lector conoce el lenguaje de programación Python y tiene alguna experiencia en programación.\n",
    "- Suponemos que el lector conoce la biblioteca NumPy.\n",
    "\n",
    "\n",
    "**Referencias**: \n",
    "\n",
    "[Linear Algebra Review and Reference](http://cs229.stanford.edu/section/cs229-linalg.pdf) (Zico Kolter)\n",
    "\n",
    "[CS229 Notes - 1](http://cs229.stanford.edu/notes/cs229-notes1.pdf) (Andrew Ng)"
   ]
  },
  {
   "cell_type": "code",
   "execution_count": 1,
   "metadata": {
    "colab": {},
    "colab_type": "code",
    "id": "aBvRL6jlKz2L"
   },
   "outputs": [],
   "source": [
    "# Importamos NumPy y SciPy\n",
    "import numpy as np\n",
    "import scipy as sp\n",
    "\n",
    "import matplotlib as mpl\n",
    "import matplotlib.pyplot as plt\n",
    "# Estilo clásico para gráficos\n",
    "plt.style.use('seaborn-v0_8-paper')\n"
   ]
  },
  {
   "cell_type": "markdown",
   "metadata": {
    "colab_type": "text",
    "id": "ZFEdlHaWKz2X"
   },
   "source": [
    "## 1. Operaciones (muy) básicas"
   ]
  },
  {
   "cell_type": "markdown",
   "metadata": {
    "colab_type": "text",
    "id": "GHiCw09DKz2a"
   },
   "source": [
    "Vamos primero a crear algunos arrays de `numpy`, la estructura más común para manejar matrices n-dimensionales. Vamos a trabajar principalmente con arrays bidimensionales (a.k.a. matrices), porque son más fáciles de interpretar,  pero la mayoría de las operaciones y resultados admiten como argumentos matrices n-dimensionales (también llamados _tensores_)."
   ]
  },
  {
   "cell_type": "markdown",
   "metadata": {
    "colab_type": "text",
    "id": "3ceVDWyXKz2d"
   },
   "source": [
    "Creemos primero una matriz de NumPy de 4 filas y 3 columnas y mostremos que sus elementos son enteros.  Diremos que esto es una matriz de dimensiones $4 \\times 3$ y que pertenece a $\\mathbb{R}^{4 \\times 3}$ (la convención es considerar primero las filas y luego las columnas), y solemos denotarla como $A(4,3)$ . Mostremos luego la suma de sus elementos, la suma columna a columna, y fila a fila (por una descripción de cómo maneja `numpy` estas operaciones, puede ver el la [Introducción a NumPy](https://github.com/pln-fing-udelar/cursos/blob/master/tutoriales/NumPy-Intro.ipynb). "
   ]
  },
  {
   "cell_type": "code",
   "execution_count": 2,
   "metadata": {
    "colab": {
     "base_uri": "https://localhost:8080/",
     "height": 146
    },
    "colab_type": "code",
    "id": "LtYv3WU0Kz2f",
    "outputId": "4e6efbce-dc2d-4922-c6b9-d4c9fc2c6ac9"
   },
   "outputs": [
    {
     "name": "stdout",
     "output_type": "stream",
     "text": [
      "[[0 0 1]\n",
      " [1 1 0]\n",
      " [1 1 1]\n",
      " [2 2 2]]\n",
      "int32\n",
      "12\n",
      "[4 4 4]\n",
      "[1 2 3 6]\n"
     ]
    }
   ],
   "source": [
    "# Especificamos los elementos de la matriz como listas de Python \n",
    "A=np.array([[0,0,1],[1,1,0],[1,1,1],[2,2,2]])\n",
    "print (A)\n",
    "print (A.dtype)\n",
    "\n",
    "print (np.sum(A))\n",
    "print (np.sum(A,axis=0))\n",
    "print (np.sum(A,axis=1))"
   ]
  },
  {
   "cell_type": "markdown",
   "metadata": {
    "colab_type": "text",
    "id": "iD6R6NKKKz2o"
   },
   "source": [
    "También podemos crear una matriz de 3 filas y 4 columnas, a la que podemos completar con ceros, o con unos. \n"
   ]
  },
  {
   "cell_type": "code",
   "execution_count": 3,
   "metadata": {
    "colab": {
     "base_uri": "https://localhost:8080/",
     "height": 72
    },
    "colab_type": "code",
    "id": "Yk71MWwAKz2r",
    "outputId": "1a80459c-a76e-433c-cb3b-76694c01039c"
   },
   "outputs": [
    {
     "name": "stdout",
     "output_type": "stream",
     "text": [
      "[[0. 0. 0. 0.]\n",
      " [0. 0. 0. 0.]\n",
      " [0. 0. 0. 0.]]\n"
     ]
    }
   ],
   "source": [
    "print (np.zeros((3,4)))\n"
   ]
  },
  {
   "cell_type": "code",
   "execution_count": 4,
   "metadata": {
    "colab": {
     "base_uri": "https://localhost:8080/",
     "height": 72
    },
    "colab_type": "code",
    "id": "c3qPlp62Kz2z",
    "outputId": "5850c8bc-9cd5-4ea1-ca25-8a616a2a5f72"
   },
   "outputs": [
    {
     "name": "stdout",
     "output_type": "stream",
     "text": [
      "[[1. 1. 1. 1.]\n",
      " [1. 1. 1. 1.]\n",
      " [1. 1. 1. 1.]]\n"
     ]
    }
   ],
   "source": [
    "print (np.ones((3,4)))"
   ]
  },
  {
   "cell_type": "markdown",
   "metadata": {
    "colab_type": "text",
    "id": "JSWKOcmLKz27"
   },
   "source": [
    "Los 1D-arrays en NumPy son siempre vectores files, i.e. **los vectores son simplemente matrices $1\\times n$**:"
   ]
  },
  {
   "cell_type": "code",
   "execution_count": 5,
   "metadata": {
    "colab": {
     "base_uri": "https://localhost:8080/",
     "height": 54
    },
    "colab_type": "code",
    "id": "SLU8_-XFKz2-",
    "outputId": "9647a36a-3ba0-4ca1-da37-3eb58aba47c1"
   },
   "outputs": [
    {
     "name": "stdout",
     "output_type": "stream",
     "text": [
      "[1. 1. 1. 1. 1. 1. 1. 1. 1. 1.]\n",
      "Size:10\n"
     ]
    }
   ],
   "source": [
    "print (np.ones(10))\n",
    "print (\"Size:\"+ str(np.ones(10).size))"
   ]
  },
  {
   "cell_type": "markdown",
   "metadata": {},
   "source": [
    "Una operación muy importante es el _producto interno_ de dos vectores, una operación que nos devuelve un número, y que puede verse como una medida de similitud entre ambos. Dados dos vectores $v = (v_1,v_2,\\ldots,v_n)$ y $2 = (w_1,w_2,\\ldots,w_n)$ de iguales dimensiones, definimos su producto interno $v\\cdot w$ como $\\sum_{i=1}^{n} v_i w_i$"
   ]
  },
  {
   "cell_type": "code",
   "execution_count": 6,
   "metadata": {},
   "outputs": [
    {
     "name": "stdout",
     "output_type": "stream",
     "text": [
      "29\n"
     ]
    }
   ],
   "source": [
    "v= np.array([1,2,3])\n",
    "w= np.array([4,5,5])\n",
    "print (np.dot(v,w))"
   ]
  },
  {
   "cell_type": "markdown",
   "metadata": {
    "colab_type": "text",
    "id": "i6dqXAwpKz3F"
   },
   "source": [
    "Las matrices pueden sumarse (ambas matrices deben tener las mismas dimensiones):"
   ]
  },
  {
   "cell_type": "code",
   "execution_count": 7,
   "metadata": {
    "colab": {
     "base_uri": "https://localhost:8080/",
     "height": 72
    },
    "colab_type": "code",
    "id": "QHKz4WuSKz3H",
    "outputId": "f1018735-8615-46b7-d7ba-49a8b3b8c394"
   },
   "outputs": [
    {
     "name": "stdout",
     "output_type": "stream",
     "text": [
      "[[1 2 2]\n",
      " [1 0 2]\n",
      " [1 2 2]]\n"
     ]
    }
   ],
   "source": [
    "A=np.array([0,1,1,0,0,1,1,1,1]).reshape((3,3))\n",
    "B=np.array([1,1,1,1,0,1,0,1,1]).reshape((3,3))\n",
    "print (str(A + B))\n"
   ]
  },
  {
   "cell_type": "markdown",
   "metadata": {
    "colab_type": "text",
    "id": "72MTq0yzKz3O"
   },
   "source": [
    "Si las matrices tienen diferentes dimensiones NumPy hace un _upcasts_ y agrega elementos para hacer que las matrices sean compatibles (si ello es posible). En el siguiente ejemplo, la única matriz en $b$ se repite para hacer de $b$ una matriz $2 \\times 2$ y poder sumarla a $A$. Este mecanismo de NumPy se llama [broadcasting](https://numpy.org/doc/stable/user/basics.broadcasting.html)."
   ]
  },
  {
   "cell_type": "code",
   "execution_count": 8,
   "metadata": {
    "colab": {
     "base_uri": "https://localhost:8080/",
     "height": 109
    },
    "colab_type": "code",
    "id": "ZMh8gUN2Kz3P",
    "outputId": "e6e9a1a7-69ac-4b23-a2d3-07ad7154f1fa"
   },
   "outputs": [
    {
     "name": "stdout",
     "output_type": "stream",
     "text": [
      "[[0 1]\n",
      " [2 1]]\n",
      "[0 1]\n",
      "[[0 2]\n",
      " [2 2]]\n"
     ]
    }
   ],
   "source": [
    "A=np.array([0,1,2,1]).reshape((2,2))\n",
    "B=np.array([0,1])\n",
    "\n",
    "print (A)\n",
    "print (B)\n",
    "print (A + B)"
   ]
  },
  {
   "cell_type": "markdown",
   "metadata": {
    "colab_type": "text",
    "id": "g711pbAiKz3Y"
   },
   "source": [
    "Podemos multiplicar un escalar por una matriz..."
   ]
  },
  {
   "cell_type": "code",
   "execution_count": 9,
   "metadata": {
    "colab": {
     "base_uri": "https://localhost:8080/",
     "height": 54
    },
    "colab_type": "code",
    "id": "e0DOdCOXKz3a",
    "outputId": "10dbcfdc-8e5d-444b-ee3b-b9550e269d3c"
   },
   "outputs": [
    {
     "name": "stdout",
     "output_type": "stream",
     "text": [
      "[[8.1 8.1 8.1]\n",
      " [8.1 8.1 8.1]]\n"
     ]
    }
   ],
   "source": [
    "a=8.1\n",
    "B=np.ones((2,3))\n",
    "print (a*B)"
   ]
  },
  {
   "cell_type": "markdown",
   "metadata": {
    "colab_type": "text",
    "id": "4w3iydjPKz3i"
   },
   "source": [
    "**Producto de matrices**.  Dada una matriz $A(n,p)$ y $B(p,m)$, $A.B=C$, donde $C=((c_{ij}))$ y $c_{ij}=\\Sigma_{h=1}^p a_{ih}b_{hj}$"
   ]
  },
  {
   "cell_type": "code",
   "execution_count": 10,
   "metadata": {
    "colab": {
     "base_uri": "https://localhost:8080/",
     "height": 146
    },
    "colab_type": "code",
    "id": "BwIreZvPKz3k",
    "outputId": "434d20b4-d5da-459f-bee9-feb835fc8602"
   },
   "outputs": [
    {
     "name": "stdout",
     "output_type": "stream",
     "text": [
      "[[1 2 1]\n",
      " [0 1 1]\n",
      " [0 1 1]\n",
      " [0 0 0]]\n",
      "[[2 1]\n",
      " [1 1]\n",
      " [0 0]]\n"
     ]
    }
   ],
   "source": [
    "A=np.array([1,2,1,0,1,1,0,1,1,0,0,0]).reshape(4,3)\n",
    "print (A)\n",
    "B=np.array([[2,1],[1,1],[0,0]])\n",
    "print (B)"
   ]
  },
  {
   "cell_type": "code",
   "execution_count": 11,
   "metadata": {
    "colab": {
     "base_uri": "https://localhost:8080/",
     "height": 90
    },
    "colab_type": "code",
    "id": "mfe0AV0gKz3t",
    "outputId": "fa422ce0-0314-49c0-ef5e-1e7fe8dab39b"
   },
   "outputs": [
    {
     "name": "stdout",
     "output_type": "stream",
     "text": [
      "[[4 3]\n",
      " [1 1]\n",
      " [1 1]\n",
      " [0 0]]\n"
     ]
    }
   ],
   "source": [
    "print (A @ B )"
   ]
  },
  {
   "cell_type": "markdown",
   "metadata": {
    "colab_type": "text",
    "id": "gk4Qi-r4Kz37"
   },
   "source": [
    "A veces es más fácil ver el producto de matrices como una matriz donde cada fila del producto es el _dot product_ de la fila correspondiente de $A$ ($A_i$) y $B$. NumPy nos permite 'recortar' columnas y filas:"
   ]
  },
  {
   "cell_type": "code",
   "execution_count": 12,
   "metadata": {
    "colab": {
     "base_uri": "https://localhost:8080/",
     "height": 109
    },
    "colab_type": "code",
    "id": "qxfBuclZKz3-",
    "outputId": "8ae402b5-3a6c-45c6-93ad-bddb31c96b4a"
   },
   "outputs": [
    {
     "name": "stdout",
     "output_type": "stream",
     "text": [
      "Shape de A:(4, 3)\n",
      "[4 3]\n",
      "[1 1]\n",
      "[1 1]\n",
      "[0 0]\n"
     ]
    }
   ],
   "source": [
    "print (\"Shape de A:\"+ str(A.shape))\n",
    "for i in range(A.shape[0]):\n",
    "    print (A[i]@ B)"
   ]
  },
  {
   "cell_type": "markdown",
   "metadata": {
    "colab_type": "text",
    "id": "a5SFi1c6Kz4F"
   },
   "source": [
    "Alternativamente, podemos ver el producto de matrices como una matriz donde cada columna es el producto de A y la correspondiente columna en B ($B^j$)"
   ]
  },
  {
   "cell_type": "code",
   "execution_count": 13,
   "metadata": {
    "colab": {
     "base_uri": "https://localhost:8080/",
     "height": 54
    },
    "colab_type": "code",
    "id": "MAlRiD21Kz4H",
    "outputId": "dcd4faf4-f702-4d07-c939-7dba89a76476"
   },
   "outputs": [
    {
     "name": "stdout",
     "output_type": "stream",
     "text": [
      "[4 1 1 0]\n",
      "[3 1 1 0]\n"
     ]
    }
   ],
   "source": [
    "for j in range(B.shape[1]):\n",
    "    print (A@B[:,j])"
   ]
  },
  {
   "cell_type": "markdown",
   "metadata": {
    "colab_type": "text",
    "id": "XQ9CQc7YKz4L"
   },
   "source": [
    "Observe que los resultados son arrays fila, y no (como tal vez se podría esperar) arrays columna. La razón es simple: los arrays 1D en NumPy son siempre los mismos, no importa si son filas o columnas. Si lo que efectivamente queremos es un vector columna, podemos utilizar `v.reshape(rows,1)`"
   ]
  },
  {
   "cell_type": "code",
   "execution_count": 14,
   "metadata": {},
   "outputs": [
    {
     "name": "stdout",
     "output_type": "stream",
     "text": [
      "[[3]\n",
      " [1]\n",
      " [1]\n",
      " [0]]\n"
     ]
    }
   ],
   "source": [
    "print ((A@B[:,j]).reshape(4,1))"
   ]
  },
  {
   "cell_type": "markdown",
   "metadata": {
    "colab_type": "text",
    "id": "Ib2bLgedKz4N"
   },
   "source": [
    "La trasposición de matrices transforma filas en columnas, y viceversa"
   ]
  },
  {
   "cell_type": "code",
   "execution_count": 15,
   "metadata": {
    "colab": {
     "base_uri": "https://localhost:8080/",
     "height": 146
    },
    "colab_type": "code",
    "id": "Js2vA_vuKz4Q",
    "outputId": "dee67a5e-d134-41e3-c8ff-167fa37e11a0"
   },
   "outputs": [
    {
     "name": "stdout",
     "output_type": "stream",
     "text": [
      "[[1 2 1]\n",
      " [0 1 1]\n",
      " [0 1 1]\n",
      " [0 0 0]]\n",
      "[[1 0 0 0]\n",
      " [2 1 1 0]\n",
      " [1 1 1 0]]\n"
     ]
    }
   ],
   "source": [
    "print (A)\n",
    "print (np.transpose(A))"
   ]
  },
  {
   "cell_type": "markdown",
   "metadata": {
    "colab_type": "text",
    "id": "ZEG2N9kpKz4V"
   },
   "source": [
    "Una propiedad interesante es la siguiente (no es difícil de probar):\n"
   ]
  },
  {
   "cell_type": "markdown",
   "metadata": {
    "colab_type": "text",
    "id": "m9SnUErPKz4X"
   },
   "source": [
    "$(A\\cdot B)^t = B^t \\cdot A^t$ **[1]**\n"
   ]
  },
  {
   "cell_type": "code",
   "execution_count": 16,
   "metadata": {
    "colab": {
     "base_uri": "https://localhost:8080/",
     "height": 90
    },
    "colab_type": "code",
    "id": "E47OYjugKz4Y",
    "outputId": "e4d01d7b-1849-4913-87d0-8320780ec929"
   },
   "outputs": [
    {
     "name": "stdout",
     "output_type": "stream",
     "text": [
      "[[4 1 1 0]\n",
      " [3 1 1 0]]\n",
      "[[4 1 1 0]\n",
      " [3 1 1 0]]\n"
     ]
    }
   ],
   "source": [
    "print (np.transpose(A.dot(B)))\n",
    "print (np.transpose(B).dot(np.transpose(A)))"
   ]
  },
  {
   "cell_type": "markdown",
   "metadata": {
    "colab_type": "text",
    "id": "PSVZRKA_Kz4e"
   },
   "source": [
    "## 2. Matrices como transformaciones lineales"
   ]
  },
  {
   "cell_type": "markdown",
   "metadata": {
    "colab_type": "text",
    "id": "W2X7PHilKz4g"
   },
   "source": [
    "From [Wikipedia](http://en.wikipedia.org/wiki/Matrix_%28mathematics%29): \n",
    "\n",
    "\n",
    "*Una aplicación importante de las matrices es representar transformaciones lineales, es decir, generalizaciones de funciones lineales como $f(x) = 4x$. Por ejemplo, la rotación de vectores en espacios de tres dimensiones es una transformación lineal que puede ser representada por una matriz de rotación \n",
    "$R$. Si $v$ es un vector columna que describe la posición de un punto en el espacio, el producto $Rv$ es el vector columna que describe la posición del punto después de la rotación **El proeducto de dos matrices es una matriz que representa la composición de dos transformaciones lineales**\n",
    "\n",
    "La siguiente imagen muestra cómo el cuadrado unitario se transforma bajo una transformación lineal, representada por una matriz 2 por 2. Este uso de las matrices nos permitirá imaginar mejor las propiedades abstractas que describiremos. \n",
    "\n"
   ]
  },
  {
   "cell_type": "code",
   "execution_count": 17,
   "metadata": {
    "colab": {
     "base_uri": "https://localhost:8080/",
     "height": 423
    },
    "colab_type": "code",
    "id": "IjBmhL4aKz4i",
    "outputId": "acf9b4a4-02b7-413e-c0f4-3347119155c7"
   },
   "outputs": [
    {
     "data": {
      "text/html": [
       "<img src=\"http://upload.wikimedia.org/wikipedia/commons/a/ad/Area_parallellogram_as_determinant.svg\" width=\"250\"/>"
      ],
      "text/plain": [
       "<IPython.core.display.Image object>"
      ]
     },
     "execution_count": 17,
     "metadata": {},
     "output_type": "execute_result"
    }
   ],
   "source": [
    "from IPython.display import Image\n",
    "Image(url='http://upload.wikimedia.org/wikipedia/commons/a/ad/Area_parallellogram_as_determinant.svg',width=250)\n"
   ]
  },
  {
   "cell_type": "markdown",
   "metadata": {
    "colab_type": "text",
    "id": "NAZqkyS_Kz4n"
   },
   "source": [
    "Los vectores en las filas de una matriz 2x2 corresponden a las imágenes de un cuadrado unitario, que se transforma en un paralelogramo. Veamos esto en Python. Supongamos que tenemos la matriz [[1,1],[2,1]]. Esta matriz representa una transformación, donde cada punto en  $R^2$ (x,y) se mapea a  (x+2y,x+y). Verifiquémoslo:"
   ]
  },
  {
   "cell_type": "code",
   "execution_count": 47,
   "metadata": {
    "colab": {
     "base_uri": "https://localhost:8080/",
     "height": 35
    },
    "colab_type": "code",
    "id": "UJKu1HtRKz4p",
    "outputId": "cedf007e-04c8-4996-f802-357afd4e9cb8"
   },
   "outputs": [
    {
     "name": "stdout",
     "output_type": "stream",
     "text": [
      "[3 2]\n"
     ]
    }
   ],
   "source": [
    "Ex=np.array([[1,1],[2,1]])\n",
    "print ([1,1]@Ex) # [1+2,1+1]"
   ]
  },
  {
   "cell_type": "markdown",
   "metadata": {
    "colab_type": "text",
    "id": "7b63P95BKz4u"
   },
   "source": [
    "Veamos cómo se transforma el cuadrado unidad bajo la transformación de nuestra matriz. Primero escribamos una función que muestra las transformación del cuadrado unidad bajo cualquier transformación."
   ]
  },
  {
   "cell_type": "code",
   "execution_count": 48,
   "metadata": {
    "colab": {},
    "colab_type": "code",
    "id": "Oj3-VWoPKz4v"
   },
   "outputs": [],
   "source": [
    "def transform_unit_square(A):\n",
    "    nxp=20\n",
    "    nxq=20\n",
    "    p = np.linspace(-1.0,1.0,nxp)\n",
    "    q = np.linspace(-1.0,1.0,nxq)\n",
    "    m=np.meshgrid(p,q)        # Create grid for plotting\n",
    "    xx=m[0]\n",
    "    yy=m[1]\n",
    "\n",
    "    # Apply transform to every point in grid.\n",
    "    for i in range(nxp):\n",
    "          for j in range(nxq):\n",
    "            x = np.array([xx[i][j], yy[i][j]])\n",
    "            y = np.dot(A,x)         \n",
    "            plt.plot(x[0], x[1], '.b', y[0], y[1], '.r')\n",
    "\n",
    "    plt.suptitle('Aplicando la transformación y=Ax en una grilla')\n",
    "    plt.axis('equal')\n",
    "    plt.show()\n",
    "    \n"
   ]
  },
  {
   "cell_type": "code",
   "execution_count": 49,
   "metadata": {
    "colab": {
     "base_uri": "https://localhost:8080/",
     "height": 294
    },
    "colab_type": "code",
    "id": "W295AYX4Kz4y",
    "outputId": "cbaca693-b2a8-4d1b-9e34-10ea7f572bf2"
   },
   "outputs": [
    {
     "data": {
      "image/png": "[encoded data removed]",
      "text/plain": [
       "<Figure size 512x352 with 1 Axes>"
      ]
     },
     "metadata": {},
     "output_type": "display_data"
    }
   ],
   "source": [
    "transform_unit_square(Ex)"
   ]
  },
  {
   "cell_type": "markdown",
   "metadata": {
    "colab_type": "text",
    "id": "pohmKHyvKz42"
   },
   "source": [
    "Veamos cómo una matriz transforma el círculo de radio 1 (observe cómo el origen permanece incambiado)."
   ]
  },
  {
   "cell_type": "code",
   "execution_count": 86,
   "metadata": {
    "colab": {
     "base_uri": "https://localhost:8080/",
     "height": 294
    },
    "colab_type": "code",
    "id": "5gOFCge2Kz44",
    "outputId": "0e150544-b09f-4a62-9672-b040a5d3c5d8"
   },
   "outputs": [
    {
     "data": {
      "image/png": "[encoded data removed]",
      "text/plain": [
       "<Figure size 512x352 with 1 Axes>"
      ]
     },
     "metadata": {},
     "output_type": "display_data"
    }
   ],
   "source": [
    "def transform_unit_circle(A):\n",
    "    nrp=100\n",
    "    t = np.linspace(0,np.pi*2,nrp)\n",
    "\n",
    "\n",
    "\n",
    "    p = np.linspace(-1.0,1.0,nrp)\n",
    "    for i in range(100):\n",
    "        x=[np.cos(t),np.sin(t)]\n",
    "        y=np.dot(A,x)\n",
    "        plt.plot(x[0], x[1], '.b', y[0], y[1], '.r')\n",
    "    \n",
    "    plt.suptitle('Aplicando la transformación y=Ax en el círculo unitario')\n",
    "    plt.axis('equal')\n",
    "    plt.show()\n",
    "\n",
    "transform_unit_circle(Ex)\n"
   ]
  },
  {
   "cell_type": "markdown",
   "metadata": {
    "colab_type": "text",
    "id": "i574Tty4Kz48"
   },
   "source": [
    "Veamos qué sucede con la matriz  [[1,1],[1,1]]"
   ]
  },
  {
   "cell_type": "code",
   "execution_count": 87,
   "metadata": {
    "colab": {
     "base_uri": "https://localhost:8080/",
     "height": 571
    },
    "colab_type": "code",
    "id": "bj5USXjjKz4_",
    "outputId": "2eb16d85-fb79-44bf-cbfb-414273ff3ed3"
   },
   "outputs": [
    {
     "data": {
      "image/png": "[encoded data removed]",
      "text/plain": [
       "<Figure size 512x352 with 1 Axes>"
      ]
     },
     "metadata": {},
     "output_type": "display_data"
    },
    {
     "data": {
      "image/png": "[encoded data removed]",
      "text/plain": [
       "<Figure size 512x352 with 1 Axes>"
      ]
     },
     "metadata": {},
     "output_type": "display_data"
    }
   ],
   "source": [
    "transform_unit_square([[1,1],[1,1]])\n",
    "transform_unit_circle([[1,1],[1,1]])"
   ]
  },
  {
   "cell_type": "markdown",
   "metadata": {
    "colab_type": "text",
    "id": "ez9cn9CAKz5F"
   },
   "source": [
    "## 3. Matriz inversa"
   ]
  },
  {
   "cell_type": "code",
   "execution_count": 52,
   "metadata": {
    "colab": {},
    "colab_type": "code",
    "id": "mkUj93_UKz5G"
   },
   "outputs": [],
   "source": [
    "import scipy.linalg"
   ]
  },
  {
   "cell_type": "markdown",
   "metadata": {
    "colab_type": "text",
    "id": "yj2z0rSeKz5K"
   },
   "source": [
    "Una matriz $(n,n)$ A es _invertible_ si existe una matriz B tal que $A \\cdot B = I$, donde $I$ es la matriz identidad. B es la _matriz inversa_ de  $A$. \n",
    "\n",
    "**Para transformaciones lineales, la matriz inversa representa la transformación lineal que nos devuelve el plano original.**"
   ]
  },
  {
   "cell_type": "code",
   "execution_count": 88,
   "metadata": {
    "colab": {
     "base_uri": "https://localhost:8080/",
     "height": 72
    },
    "colab_type": "code",
    "id": "dnsnlpfIKz5M",
    "outputId": "830f3032-57e8-4f78-895f-9b798a911046"
   },
   "outputs": [
    {
     "name": "stdout",
     "output_type": "stream",
     "text": [
      "[[ 1. -1.  0.]\n",
      " [-1.  0.  1.]\n",
      " [ 1.  1. -1.]]\n"
     ]
    }
   ],
   "source": [
    "A=np.array([1,1,1,0,1,1,1,2,1]).reshape((3,3))\n",
    "B=sp.linalg.inv(A)\n",
    "print (B)"
   ]
  },
  {
   "cell_type": "code",
   "execution_count": 89,
   "metadata": {
    "colab": {
     "base_uri": "https://localhost:8080/",
     "height": 72
    },
    "colab_type": "code",
    "id": "j-n_VLRwKz5Q",
    "outputId": "3834fab9-cea9-4ede-bddf-ba39a4a9d2d6"
   },
   "outputs": [
    {
     "name": "stdout",
     "output_type": "stream",
     "text": [
      "[[1. 0. 0.]\n",
      " [0. 1. 0.]\n",
      " [0. 0. 1.]]\n"
     ]
    }
   ],
   "source": [
    "print (A@B)"
   ]
  },
  {
   "cell_type": "code",
   "execution_count": 90,
   "metadata": {
    "colab": {
     "base_uri": "https://localhost:8080/",
     "height": 72
    },
    "colab_type": "code",
    "id": "62Wc1bRbKz5V",
    "outputId": "4bc14e17-1448-4674-e64b-9989eab41dd5"
   },
   "outputs": [
    {
     "name": "stdout",
     "output_type": "stream",
     "text": [
      "[[1. 0. 0.]\n",
      " [0. 1. 0.]\n",
      " [0. 0. 1.]]\n"
     ]
    }
   ],
   "source": [
    "print (B@A)"
   ]
  },
  {
   "cell_type": "markdown",
   "metadata": {
    "colab_type": "text",
    "id": "IYRIM9IeKz5Y"
   },
   "source": [
    "Busquemos la inversa de una matriz, y mostremos cómo cada una de ellas modifica el círculo unitario:"
   ]
  },
  {
   "cell_type": "code",
   "execution_count": 91,
   "metadata": {
    "colab": {
     "base_uri": "https://localhost:8080/",
     "height": 54
    },
    "colab_type": "code",
    "id": "0aQQyZpYKz5Z",
    "outputId": "c3abf68d-2fad-4ff0-8b0a-d653a25daedc"
   },
   "outputs": [
    {
     "name": "stdout",
     "output_type": "stream",
     "text": [
      "[[0.75 0.5 ]\n",
      " [0.25 0.5 ]]\n"
     ]
    }
   ],
   "source": [
    "A=np.array([2,-2,-1,3]).reshape((2,2))\n",
    "Inv=sp.linalg.inv(A)\n",
    "print(Inv)"
   ]
  },
  {
   "cell_type": "code",
   "execution_count": 92,
   "metadata": {
    "colab": {
     "base_uri": "https://localhost:8080/",
     "height": 571
    },
    "colab_type": "code",
    "id": "pxdWZXIeKz5d",
    "outputId": "eea7b74f-1f94-469a-8966-25837d3a427d"
   },
   "outputs": [
    {
     "data": {
      "image/png": "[encoded data removed]",
      "text/plain": [
       "<Figure size 512x352 with 1 Axes>"
      ]
     },
     "metadata": {},
     "output_type": "display_data"
    },
    {
     "data": {
      "image/png": "[encoded data removed]",
      "text/plain": [
       "<Figure size 512x352 with 1 Axes>"
      ]
     },
     "metadata": {},
     "output_type": "display_data"
    }
   ],
   "source": [
    "transform_unit_circle(A)\n",
    "\n",
    "transform_unit_circle(Inv)\n",
    "\n"
   ]
  },
  {
   "cell_type": "markdown",
   "metadata": {
    "colab_type": "text",
    "id": "rZbznl8uKz5h"
   },
   "source": [
    "## 4. Normas"
   ]
  },
  {
   "cell_type": "markdown",
   "metadata": {
    "colab_type": "text",
    "id": "IrIlDd2NKz5j"
   },
   "source": [
    "La _norma_ de un vector $\\lVert x \\rVert$ es una medida de su \"largo\". La norma $l_2$ (o norma euclídea) es:\n",
    "\n",
    "$ \\lVert x \\rVert _2 = \\sqrt{\\sum_{i=1}^n{x_i^2}}$\n",
    "\n",
    "... equivalente a $\\sqrt{x^Tx}$.\n",
    "\n",
    "Otras normas: \n",
    "\n",
    "$ \\lVert x \\rVert _1 = \\sum_{i=1}^n{|x_i|}$\n",
    "\n",
    "$ \\lVert x \\rVert _\\infty = \\max_{i}|x_i|$\n",
    "\n",
    "Vamos a calcularlas utilizando `scipy.linalg.norm`:"
   ]
  },
  {
   "cell_type": "code",
   "execution_count": 93,
   "metadata": {
    "colab": {
     "base_uri": "https://localhost:8080/",
     "height": 72
    },
    "colab_type": "code",
    "id": "80J_AT5MKz5j",
    "outputId": "f1c8639b-5b71-43ee-cdfd-9512fc6b6a1a"
   },
   "outputs": [
    {
     "name": "stdout",
     "output_type": "stream",
     "text": [
      "8.0\n",
      "16.0\n",
      "5.0\n"
     ]
    }
   ],
   "source": [
    "v=np.array([1,2,3,5,5])\n",
    "\n",
    "print(sp.linalg.norm(v,2))\n",
    "print(sp.linalg.norm(v,1))\n",
    "print(sp.linalg.norm(v,np.inf))\n",
    "\n",
    "\n"
   ]
  },
  {
   "cell_type": "markdown",
   "metadata": {
    "colab_type": "text",
    "id": "exTseYFzKz5m"
   },
   "source": [
    "\n",
    "## 6. Algunas identidades básicas "
   ]
  },
  {
   "cell_type": "code",
   "execution_count": 94,
   "metadata": {
    "colab": {
     "base_uri": "https://localhost:8080/",
     "height": 127
    },
    "colab_type": "code",
    "id": "mfqlc0GtKz5o",
    "outputId": "e9eb03d4-d981-4d13-cfab-fc7a8a393629"
   },
   "outputs": [
    {
     "name": "stdout",
     "output_type": "stream",
     "text": [
      "[[1 1 1]\n",
      " [0 1 1]\n",
      " [1 2 1]]\n",
      "[[1 0 1]\n",
      " [0 1 1]\n",
      " [0 1 2]]\n"
     ]
    }
   ],
   "source": [
    "A=np.array([1,1,1,0,1,1,1,2,1]).reshape((3,3))\n",
    "B=np.array([1,0,1,0,1,1,0,1,2]).reshape((3,3))\n",
    "print (A)\n",
    "print (B)\n"
   ]
  },
  {
   "cell_type": "markdown",
   "metadata": {
    "colab_type": "text",
    "id": "L4VSQugrKz5r"
   },
   "source": [
    "*Propiedad 1:* Si multiplicamos una matriz por su inversa, obtenemos la matriz identidad (no importa el orden en que lo hagamos)   **[2]**"
   ]
  },
  {
   "cell_type": "markdown",
   "metadata": {
    "colab_type": "text",
    "id": "fGwf8A1dKz5s"
   },
   "source": [
    "$A\\cdot A^{-1} = A^{-1}\\cdot A = I$"
   ]
  },
  {
   "cell_type": "code",
   "execution_count": 95,
   "metadata": {
    "colab": {
     "base_uri": "https://localhost:8080/",
     "height": 72
    },
    "colab_type": "code",
    "id": "GsEaiE8SKz5t",
    "outputId": "5b320442-fc33-4840-cc48-b12a3d26922f"
   },
   "outputs": [
    {
     "name": "stdout",
     "output_type": "stream",
     "text": [
      "[[1. 0. 0.]\n",
      " [0. 1. 0.]\n",
      " [0. 0. 1.]]\n"
     ]
    }
   ],
   "source": [
    "print (A@sp.linalg.inv(A))"
   ]
  },
  {
   "cell_type": "code",
   "execution_count": 96,
   "metadata": {
    "colab": {
     "base_uri": "https://localhost:8080/",
     "height": 72
    },
    "colab_type": "code",
    "id": "h0471S0MKz50",
    "outputId": "cabf7992-e088-4e0c-dd71-1d515ad8df52"
   },
   "outputs": [
    {
     "name": "stdout",
     "output_type": "stream",
     "text": [
      "[[1. 0. 0.]\n",
      " [0. 1. 0.]\n",
      " [0. 0. 1.]]\n"
     ]
    }
   ],
   "source": [
    "print (sp.linalg.inv(A)@A)"
   ]
  },
  {
   "cell_type": "markdown",
   "metadata": {
    "colab_type": "text",
    "id": "Z4Qbo1D3Kz53"
   },
   "source": [
    "_Propiedad 2_: $(AB)^{-1} = B^{-1}A^{-1}$ **[3]** Prueba: basta con multiplicar por la izquierda con $AB$ ambos lados y obtener $I$"
   ]
  },
  {
   "cell_type": "code",
   "execution_count": 97,
   "metadata": {
    "colab": {
     "base_uri": "https://localhost:8080/",
     "height": 127
    },
    "colab_type": "code",
    "id": "eW3dbRhXKz55",
    "outputId": "95822a7e-2c3b-4999-b2c6-8f84f3d24f7f"
   },
   "outputs": [
    {
     "name": "stdout",
     "output_type": "stream",
     "text": [
      "[[-1. -2.  2.]\n",
      " [-3. -1.  3.]\n",
      " [ 2.  1. -2.]]\n",
      "[[-1. -2.  2.]\n",
      " [-3. -1.  3.]\n",
      " [ 2.  1. -2.]]\n"
     ]
    }
   ],
   "source": [
    "print (sp.linalg.inv(A@B))\n",
    "print (sp.linalg.inv(B)@sp.linalg.inv(A))"
   ]
  },
  {
   "cell_type": "markdown",
   "metadata": {
    "colab_type": "text",
    "id": "UN16XRqiKz59"
   },
   "source": [
    "_Propiedad 3_: $(A^T)^{-1}= (A^{-1})^T$ **[4]**. _La inversa de la traspuesta es la traspuesta invertida_ \n",
    "\n",
    "Prueba: usando la Propiedad 1 y trasponiendo, obtenemos $(AA^{-1})^{T}=I$. Aplicando [1], obtenemos $(A^{-1})^T A^T=I$. Multiplicando ambos lados por la derecha por $(A^T)^{-1}$, obtenemos el resultado que buscamos. "
   ]
  },
  {
   "cell_type": "code",
   "execution_count": 98,
   "metadata": {
    "colab": {
     "base_uri": "https://localhost:8080/",
     "height": 127
    },
    "colab_type": "code",
    "id": "pLrAxLu9Kz5-",
    "outputId": "17bb2727-ff47-4d83-9c83-54c7ef618119"
   },
   "outputs": [
    {
     "name": "stdout",
     "output_type": "stream",
     "text": [
      "[[ 1. -1.  1.]\n",
      " [-1.  0.  1.]\n",
      " [ 0.  1. -1.]]\n",
      "[[ 1. -1.  1.]\n",
      " [-1.  0.  1.]\n",
      " [ 0.  1. -1.]]\n"
     ]
    }
   ],
   "source": [
    "print (sp.linalg.inv(np.transpose(A)))\n",
    "print (np.transpose(np.linalg.inv(A)))"
   ]
  },
  {
   "cell_type": "markdown",
   "metadata": {
    "colab_type": "text",
    "id": "KfGlRSWCKz6F"
   },
   "source": [
    "### Rango e independencia lineal \n",
    "\n",
    "Un conjunto de vectores es _linealmente independiente_ si ninguno de los vectores puede expresarse como una combinación lineal del reso (o, de forma equivalente, si $\\sum_{n} \\alpha_{n}a_n = 0$ solo si todos los  $\\alpha_{n}$ son 0). El _rango_ de una matriz es el máximo número de filas (o, de forma equivalente, el máximo número de columnas) linealmente independientes. El rango mide qué tanta \"información\" guarda la matriz. Si el número de columnas es mayor al rango, entonces de alguna forma podremos \"comprimir\" la matriz.  "
   ]
  },
  {
   "cell_type": "markdown",
   "metadata": {
    "colab_type": "text",
    "id": "zsQQbbYsKz6G"
   },
   "source": [
    "## 6. Trazas y determinantes"
   ]
  },
  {
   "cell_type": "markdown",
   "metadata": {
    "colab_type": "text",
    "id": "PtDgu-MtKz6I"
   },
   "source": [
    "La _traza_ de una matriz se define como la suma de los elementos de su diagonal. "
   ]
  },
  {
   "cell_type": "code",
   "execution_count": 99,
   "metadata": {
    "colab": {
     "base_uri": "https://localhost:8080/",
     "height": 90
    },
    "colab_type": "code",
    "id": "2ygG6iXHKz6X",
    "outputId": "24c69020-882e-457f-f3ce-14b4be37d3c4"
   },
   "outputs": [
    {
     "name": "stdout",
     "output_type": "stream",
     "text": [
      "[[1 1 1]\n",
      " [0 1 1]\n",
      " [1 2 1]]\n",
      "3\n"
     ]
    }
   ],
   "source": [
    "print (A)\n",
    "print (np.trace(A))"
   ]
  },
  {
   "cell_type": "markdown",
   "metadata": {
    "colab_type": "text",
    "id": "PN__81wGKz6b"
   },
   "source": [
    "Propiedad: $Tr(AB)=Tr(BA)$ **[5]**"
   ]
  },
  {
   "cell_type": "code",
   "execution_count": 101,
   "metadata": {
    "colab": {
     "base_uri": "https://localhost:8080/",
     "height": 35
    },
    "colab_type": "code",
    "id": "sUBnwHZmKz6b",
    "outputId": "84857733-f263-4e2a-e98d-99dfae40517d"
   },
   "outputs": [
    {
     "name": "stdout",
     "output_type": "stream",
     "text": [
      "8 = 8\n"
     ]
    }
   ],
   "source": [
    "print (np.trace(A@B),\"=\",np.trace(B@A))"
   ]
  },
  {
   "cell_type": "markdown",
   "metadata": {
    "colab_type": "text",
    "id": "ZeTcaPsaKz6e"
   },
   "source": [
    "El _determinante_  $|A|$ de una matriz cuadrada $N\\times N$ se define como:\n",
    "\n",
    "$|A| = \\sum (\\pm 1)A_{1i_1}A_{2i_2}\\ldots A_{Ni_N}$, donde \"la suma se toma sobre todos los productos consistentes en precisamente un elemento de cada fila y un elemento de cada columna, con un coeficiente $+1$ or $-1$ de acuerdo a si la permutación $i_1i_2\\ldots i_N$ es par o impar, respectivamente\".  De Wikipedia: _\"Se puede dar una  interpretación geomáetrica al valor del determinante de una matriz cuadrada con valores reales: **el valor absoluto del determinante da el valor de escala por el que el área, el volumen o su análogo de mayor dimensión es multiplicada bajo la transformación lineal asociada, mientras que el signo indica si la transformación preserva la transformación. **. Por lo tanto, una matriz 2x2 con determinante -2, aplicada a una región del plano con área finita, transformará esa región en otra con el doble de área, pero orientada al revés\"_\n",
    "\n"
   ]
  },
  {
   "cell_type": "markdown",
   "metadata": {
    "colab_type": "text",
    "id": "x1O2XrxaKz6f"
   },
   "source": [
    "Propiedad: $|AB| = |A||B|$ **[6]** (**El determinante de un producto de matrices es el producto de sus determinantes**)"
   ]
  },
  {
   "cell_type": "code",
   "execution_count": 102,
   "metadata": {
    "colab": {
     "base_uri": "https://localhost:8080/",
     "height": 54
    },
    "colab_type": "code",
    "id": "H8FIACrQKz6g",
    "outputId": "0d01e529-f097-4551-c21e-9f1ba5c450f7"
   },
   "outputs": [
    {
     "name": "stdout",
     "output_type": "stream",
     "text": [
      "-1.0\n",
      "-1.0 1.0\n"
     ]
    }
   ],
   "source": [
    "print (np.linalg.det(A@B))\n",
    "print (np.linalg.det(A), np.linalg.det(B))"
   ]
  },
  {
   "cell_type": "markdown",
   "metadata": {
    "colab_type": "text",
    "id": "e_ZyRWh8Kz6k"
   },
   "source": [
    "Determinante de la matriz inversa: $|A^{-1}| = \\frac{1}{|A|}$  **[7]**(**El determinante de la inversa de una matriz es el inverso real de su determinante**). Por lo tanto, si una matriz es invertible su determinante será no negativo. "
   ]
  },
  {
   "cell_type": "code",
   "execution_count": 103,
   "metadata": {
    "colab": {
     "base_uri": "https://localhost:8080/",
     "height": 54
    },
    "colab_type": "code",
    "id": "exhACixMKz6l",
    "outputId": "32b39bcf-8e15-4f42-e0fd-9b2329126a84"
   },
   "outputs": [
    {
     "name": "stdout",
     "output_type": "stream",
     "text": [
      "0.25000000000000006\n",
      "4.0\n"
     ]
    }
   ],
   "source": [
    "C=np.array([2,-2,-1,3]).reshape((2,2))\n",
    "print (np.linalg.det(np.linalg.inv(C)))\n",
    "print (np.linalg.det(C))"
   ]
  },
  {
   "cell_type": "markdown",
   "metadata": {
    "colab_type": "text",
    "id": "EjrN4QLSKz6o"
   },
   "source": [
    "## 7. Valores propios (_eigenvalues_)"
   ]
  },
  {
   "cell_type": "markdown",
   "metadata": {
    "colab_type": "text",
    "id": "ZQyHWwx2Kz6o"
   },
   "source": [
    "Su una matriz A tiene tamaño $M \\times M$, entonces la ecuación de sus valores propios es $Au_i = \\lambda _i u_i$ ($u_i$ es un vector propio, o  _eigenvector_ y $\\lambda_i$ es su correspondiente valor propio o  _eigenvalue_). Si tenemos un vector  $v$, y una matriz $A$,el producto $Av$ produce otro vector $v'$. Si $v$ and $v'$  son paralelos, entonces $v$ es un eigenvector de $A$, y el factor de escala entre  $v$ y $v'$ es su valor propio. En la siguiente figura (tomada de la página de Wikipedia sobre vectores y valores propios), se muestra la transformación producida por la matriz [[2,1],[1,2]]; los vectores azules y rosados son eigenvectors:"
   ]
  },
  {
   "cell_type": "code",
   "execution_count": 104,
   "metadata": {
    "colab": {
     "base_uri": "https://localhost:8080/",
     "height": 521
    },
    "colab_type": "code",
    "id": "UsPXCykQKz6p",
    "outputId": "b18e7cb6-4ff2-48dc-c113-4c110c010be7"
   },
   "outputs": [
    {
     "data": {
      "text/html": [
       "<img src=\"http://upload.wikimedia.org/wikipedia/commons/a/ad/Eigenvectors-extended.gif\"/>"
      ],
      "text/plain": [
       "<IPython.core.display.Image object>"
      ]
     },
     "execution_count": 104,
     "metadata": {},
     "output_type": "execute_result"
    }
   ],
   "source": [
    "from IPython.display import Image\n",
    "Image(url='http://upload.wikimedia.org/wikipedia/commons/a/ad/Eigenvectors-extended.gif')"
   ]
  },
  {
   "cell_type": "markdown",
   "metadata": {
    "colab_type": "text",
    "id": "Htx-Y5eQKz6s"
   },
   "source": [
    "**La ecuación de valores propios de $A$ es $(A -\\lambda I)v =0$**. Esta ecuación tiene una solución no negativa si su determinante $|A - \\lambda I|=0$; sus raíces son precisamente los valores propios de A."
   ]
  },
  {
   "cell_type": "markdown",
   "metadata": {
    "colab_type": "text",
    "id": "EMLN5G9EKz6t"
   },
   "source": [
    "Supongamos que tenemos la siguiente matriz A:"
   ]
  },
  {
   "cell_type": "code",
   "execution_count": 105,
   "metadata": {
    "colab": {
     "base_uri": "https://localhost:8080/",
     "height": 72
    },
    "colab_type": "code",
    "id": "KYCLfVvcKz6u",
    "outputId": "c5851597-2dd3-43cc-9bff-3ba5a272a0e5"
   },
   "outputs": [
    {
     "name": "stdout",
     "output_type": "stream",
     "text": [
      "[[2 0 0]\n",
      " [0 3 4]\n",
      " [0 4 9]]\n"
     ]
    }
   ],
   "source": [
    "A=np.array([2,0,0,0,3,4,0,4,9]).reshape(3,3)\n",
    "print (A)"
   ]
  },
  {
   "cell_type": "markdown",
   "metadata": {
    "colab_type": "text",
    "id": "SEtMj3ClKz6x"
   },
   "source": [
    "Su rango es el número de valores propios no nulos:"
   ]
  },
  {
   "cell_type": "code",
   "execution_count": 106,
   "metadata": {
    "colab": {
     "base_uri": "https://localhost:8080/",
     "height": 35
    },
    "colab_type": "code",
    "id": "-lUkUrBUKz6z",
    "outputId": "1119fe3f-5ddf-458d-fdda-54585ef5fb51"
   },
   "outputs": [
    {
     "name": "stdout",
     "output_type": "stream",
     "text": [
      "3\n"
     ]
    }
   ],
   "source": [
    "print (np.linalg.matrix_rank(A))"
   ]
  },
  {
   "cell_type": "markdown",
   "metadata": {
    "colab_type": "text",
    "id": "7O-OC6DaKz62"
   },
   "source": [
    "Encontremos los valores y vectores propios (note que cualquier múltiplo no negativo de un vector propio es otro vector propio)"
   ]
  },
  {
   "cell_type": "code",
   "execution_count": 107,
   "metadata": {
    "colab": {
     "base_uri": "https://localhost:8080/",
     "height": 90
    },
    "colab_type": "code",
    "id": "PComXmjZKz63",
    "outputId": "faf4b87b-b13d-4b6f-d471-d21c449ed05d"
   },
   "outputs": [
    {
     "name": "stdout",
     "output_type": "stream",
     "text": [
      "[11.  1.  2.]\n",
      "[[ 0.          0.          1.        ]\n",
      " [ 0.4472136   0.89442719  0.        ]\n",
      " [ 0.89442719 -0.4472136   0.        ]]\n"
     ]
    }
   ],
   "source": [
    "print (np.linalg.eig(A)[0]) #Eigenvalues\n",
    "print (np.linalg.eig(A)[1]) #Eigenvectors are columns!\n"
   ]
  },
  {
   "cell_type": "markdown",
   "metadata": {
    "colab_type": "text",
    "id": "811xWExTKz69"
   },
   "source": [
    "**Los vectores propios de una matriz pueden elegirse para que sean ortonormales** (i.e. $u_i^Tu_j = I_{ij}$, y, normalizando, puede ser fijado en largo uno)"
   ]
  },
  {
   "cell_type": "code",
   "execution_count": 108,
   "metadata": {
    "colab": {
     "base_uri": "https://localhost:8080/",
     "height": 164
    },
    "colab_type": "code",
    "id": "ZmypcmcUKz6-",
    "outputId": "d75c34cd-d3d5-4acc-ddc9-347a3512aaff"
   },
   "outputs": [
    {
     "name": "stdout",
     "output_type": "stream",
     "text": [
      "[[ 0.          0.          1.        ]\n",
      " [ 0.4472136   0.89442719  0.        ]\n",
      " [ 0.89442719 -0.4472136   0.        ]]\n",
      "[0.         0.4472136  0.89442719]\n",
      "0.0\n",
      "0.0\n",
      "0.9999999999999999\n",
      "0.9999999999999999\n"
     ]
    }
   ],
   "source": [
    "ev=np.linalg.eig(A)[1]\n",
    "print (ev)\n",
    "print (ev[:,0])\n",
    "print (np.dot(ev[:,0],ev[:,1]))\n",
    "print (np.dot(ev[:,1],ev[:,2]))\n",
    "print (np.dot(ev[:,1],ev[:,1]))\n",
    "print (np.linalg.norm(ev[:,1]))"
   ]
  },
  {
   "cell_type": "markdown",
   "metadata": {
    "colab_type": "text",
    "id": "1gPqPGjnKz7B"
   },
   "source": [
    "Las matrices simétricas tienen la propiedad de que $A^T=A$. Las matrices donde $A=-A^T$ son *antisimétricas*. \n",
    "La inversa de una matriz simétrica es también simétrica (demostrar).  **Para matrices simétricas, los valores propios son reales**. Por ejemplo:"
   ]
  },
  {
   "cell_type": "code",
   "execution_count": 109,
   "metadata": {
    "colab": {
     "base_uri": "https://localhost:8080/",
     "height": 90
    },
    "colab_type": "code",
    "id": "589ehi7YKz7C",
    "outputId": "5aa351c4-2cd8-4a97-feeb-c0e360b791fb"
   },
   "outputs": [
    {
     "name": "stdout",
     "output_type": "stream",
     "text": [
      "[[3 1 1]\n",
      " [1 5 0]\n",
      " [1 0 1]]\n",
      "[11.  1.  2.]\n"
     ]
    }
   ],
   "source": [
    "S=np.array([3,1,1,1,5,0,1,0,1]).reshape(3,3)\n",
    "print (S)\n",
    "evS=np.linalg.eigvals(A)\n",
    "print (evS)"
   ]
  },
  {
   "cell_type": "markdown",
   "metadata": {
    "colab_type": "text",
    "id": "CNwpfJuwKz7F"
   },
   "source": [
    "**Cualuquier vector puede ser expresado como una combinación lineal de vectores propios.**\n",
    "\n",
    "Definamos una matriz **U(M,M)**, donde los vectores propios $u_i$ son las columnas. Esta matriz satisface $U^TU=I$ y por lo tanto es_ortogonal_. La ecuación de valores propios será entonces ahora: $AU = U\\Lambda$ **[8]**, donde  $\\Lambda$ es una matriz digaonal cuyos elementos son los valores propios. Se puede mostrar que mutiplicar por $U$  puede interpretarse como una rotación rígida o una reflexión en el sistema de coordenadas. "
   ]
  },
  {
   "cell_type": "code",
   "execution_count": 110,
   "metadata": {
    "colab": {
     "base_uri": "https://localhost:8080/",
     "height": 72
    },
    "colab_type": "code",
    "id": "dxLkQzVgKz7F",
    "outputId": "370aafab-c1c6-4157-e9fa-e2c6cef4e3a5"
   },
   "outputs": [
    {
     "name": "stdout",
     "output_type": "stream",
     "text": [
      "[[ 0.          0.          1.        ]\n",
      " [ 0.4472136   0.89442719  0.        ]\n",
      " [ 0.89442719 -0.4472136   0.        ]]\n"
     ]
    }
   ],
   "source": [
    "# Show the eigenvectors of A\n",
    "print (ev)\n"
   ]
  },
  {
   "cell_type": "code",
   "execution_count": 111,
   "metadata": {
    "colab": {
     "base_uri": "https://localhost:8080/",
     "height": 72
    },
    "colab_type": "code",
    "id": "54S7cSEVKz7I",
    "outputId": "d03473af-dd0c-42af-cf94-18501784e7f6"
   },
   "outputs": [
    {
     "name": "stdout",
     "output_type": "stream",
     "text": [
      "[[2 0 0]\n",
      " [0 3 4]\n",
      " [0 4 9]]\n"
     ]
    }
   ],
   "source": [
    "print(A)"
   ]
  },
  {
   "cell_type": "code",
   "execution_count": 113,
   "metadata": {
    "colab": {
     "base_uri": "https://localhost:8080/",
     "height": 127
    },
    "colab_type": "code",
    "id": "RfeYgOPKKz7L",
    "outputId": "406d6543-8864-4cda-8819-797b3b64b97b"
   },
   "outputs": [
    {
     "name": "stdout",
     "output_type": "stream",
     "text": [
      "[[ 0.          0.          2.        ]\n",
      " [ 4.91934955  0.89442719  0.        ]\n",
      " [ 9.8386991  -0.4472136   0.        ]]\n",
      "[[ 0.          0.          2.        ]\n",
      " [ 4.91934955  0.89442719  0.        ]\n",
      " [ 9.8386991  -0.4472136   0.        ]]\n"
     ]
    }
   ],
   "source": [
    "# Verify that AU = U\\Lambda\n",
    "print (A@ev)\n",
    "\n",
    "lmbda= np.diag(np.linalg.eigvals(A))\n",
    "print (np.dot(ev,lmbda))"
   ]
  },
  {
   "cell_type": "markdown",
   "metadata": {
    "colab_type": "text",
    "id": "5YayFUFrKz7O"
   },
   "source": [
    "De $AU = U\\Lambda$, sigue $U^TAU = \\Lambda$  ($A$ es _diagonalizada_ por $U$). A partir de esto, multiplicando a la izquierda por $U$, y a la derecha por  $U^T$, obtenemos\n",
    "\n",
    "$A = U \\Lambda U^T$, or $A = \\sum_{i=1}^M {\\lambda_i} u_i u_i^T$ **[9]**\n",
    "\n"
   ]
  },
  {
   "cell_type": "markdown",
   "metadata": {
    "colab_type": "text",
    "id": "MnbSgUfAKz7O"
   },
   "source": [
    "Dibujemos la transformación lineal de cada matriz en la descomposición de A. Como $U$ es ortogonal, representa a una rotación; luego, multiplicar por $\\lambda$ escala los ejes usando los valores propios. Finalmente, $U^T$ vuelve atrás la rotación..."
   ]
  },
  {
   "cell_type": "code",
   "execution_count": 114,
   "metadata": {
    "colab": {
     "base_uri": "https://localhost:8080/",
     "height": 1000
    },
    "colab_type": "code",
    "id": "C4P04j8NKz7Q",
    "outputId": "c1386657-2f12-4072-83fe-44e7707ca2cb"
   },
   "outputs": [
    {
     "data": {
      "image/png": "[encoded data removed]",
      "text/plain": [
       "<Figure size 512x352 with 1 Axes>"
      ]
     },
     "metadata": {},
     "output_type": "display_data"
    },
    {
     "data": {
      "image/png": "[encoded data removed]",
      "text/plain": [
       "<Figure size 512x352 with 1 Axes>"
      ]
     },
     "metadata": {},
     "output_type": "display_data"
    },
    {
     "data": {
      "image/png": "[encoded data removed]",
      "text/plain": [
       "<Figure size 512x352 with 1 Axes>"
      ]
     },
     "metadata": {},
     "output_type": "display_data"
    },
    {
     "data": {
      "image/png": "[encoded data removed]",
      "text/plain": [
       "<Figure size 512x352 with 1 Axes>"
      ]
     },
     "metadata": {},
     "output_type": "display_data"
    }
   ],
   "source": [
    "Ex=np.array([3,1,1,1]).reshape(2,2)\n",
    "# Find eigenvectors\n",
    "U=np.linalg.eig(Ex)[1]\n",
    "lmbda1= np.diag(np.linalg.eigvals(Ex))\n",
    "\n",
    "transform_unit_square(Ex)\n",
    "transform_unit_square(U)\n",
    "transform_unit_square(lmbda1)\n",
    "transform_unit_square(np.transpose(U))"
   ]
  },
  {
   "cell_type": "code",
   "execution_count": 127,
   "metadata": {},
   "outputs": [
    {
     "data": {
      "image/png": "[encoded data removed]",
      "text/plain": [
       "<Figure size 512x352 with 1 Axes>"
      ]
     },
     "metadata": {},
     "output_type": "display_data"
    }
   ],
   "source": [
    "transform_unit_square(U@lmbda1@np.linalg.inv(U))"
   ]
  },
  {
   "cell_type": "markdown",
   "metadata": {
    "colab_type": "text",
    "id": "vLziIxmrKz7U"
   },
   "source": [
    "Tomando el inverso y dado que $U^{-1} = U^T$ (porque U es ortogonal), tenemos: \n",
    "\n",
    "$A^{-1} = U \\Lambda^{-1} U^T$, or \n",
    "\n",
    "$A^{-1} = \\sum_{i=1}^M \\frac{1}{\\lambda_i} u_i u_i^T$ **[10]**"
   ]
  },
  {
   "cell_type": "code",
   "execution_count": 128,
   "metadata": {
    "colab": {
     "base_uri": "https://localhost:8080/",
     "height": 127
    },
    "colab_type": "code",
    "id": "X1ggAumDKz7U",
    "outputId": "e0f855f7-2b54-49c7-b4ea-f2a40a3f7c82"
   },
   "outputs": [
    {
     "name": "stdout",
     "output_type": "stream",
     "text": [
      "[[ 0.5         0.          0.        ]\n",
      " [ 0.          0.81818182 -0.36363636]\n",
      " [ 0.         -0.36363636  0.27272727]]\n",
      "[[ 0.5         0.          0.        ]\n",
      " [ 0.          0.81818182 -0.36363636]\n",
      " [-0.         -0.36363636  0.27272727]]\n"
     ]
    }
   ],
   "source": [
    "# Calculate the inverse of A\n",
    "print (ev@np.linalg.inv(lmbda)@np.transpose(ev))\n",
    "\n",
    "print (np.linalg.inv(A))\n"
   ]
  },
  {
   "cell_type": "markdown",
   "metadata": {
    "colab_type": "text",
    "id": "O40GbF-VKz7X"
   },
   "source": [
    "Podemos también ver que **el determinante de una matriz es el producto de sus valores propios**:\n",
    "\n",
    "$|A| = \\prod_{i=1}^{M}\\lambda_i$ **[11]**\n",
    "\n",
    "Y que **la traza de una matriz es la suma de sus valores propios**\n",
    "\n",
    "$Tr(A) = \\sum_{i=1}^{M}\\lambda_i$ **[12]**\n",
    "\n"
   ]
  },
  {
   "cell_type": "code",
   "execution_count": 116,
   "metadata": {
    "colab": {
     "base_uri": "https://localhost:8080/",
     "height": 54
    },
    "colab_type": "code",
    "id": "OrZcnV4tKz7Y",
    "outputId": "ff7ff3be-6dfd-4df9-f2e6-3cee1be43c3d"
   },
   "outputs": [
    {
     "name": "stdout",
     "output_type": "stream",
     "text": [
      "22.0,21.999999999999996\n",
      "14.0,14\n"
     ]
    }
   ],
   "source": [
    "print (str(np.prod(np.linalg.eigvals(A))) + ','+ str(np.linalg.det(A)))\n",
    "\n",
    "print (str(np.sum(np.linalg.eigvals(A))) + ','+ str(np.trace(A)))"
   ]
  },
  {
   "cell_type": "markdown",
   "metadata": {
    "colab_type": "text",
    "id": "lcwSZJd2Kz7b"
   },
   "source": [
    "Una matriz simétrica A es _positiva (semi)definida_ si, para todo w, $w^T A w >(\\geq) 0$ ($w^T A w $ es llamada _forma cuadrática_). Una función positiva definida tiene todos sus valores propios positivos. La intuición detrás de las matrices definidas positivas es que son veriones multidimensionales de los escalares positivos. Cuando multiplicas un vector por una matriz, multiplicas el vector por diferentes factores en diferentes direcciones. Si una matriz es positiva definida, esto se cumple, pero el vector original y el resultante van \"en la misma dirección\", ya que su ángulo es menor a 90 grados (tienen un producto interno positivo). Referencia: [Quora](https://www.quora.com/What-is-a-positive-definite-matrix-in-laymans-terms).\n",
    "\n",
    "Una propiedad muy importante de las matrices positivas definidas y negativas definidas es que son siempre de rango completo, y, por lo tanto, invertibles. \n",
    "\n",
    "Dada $A \\in {\\rm I\\!R}^{n \\times n}$ ,existe una matriz especial $G =A^TA$, llamada _Matrix Gram_, siempre positiva semidefinida, y si  $m \\geq n$, $G$ es positiva definida. \n",
    "\n"
   ]
  },
  {
   "cell_type": "markdown",
   "metadata": {},
   "source": [
    "## 9. Cálculo de matrices"
   ]
  },
  {
   "cell_type": "markdown",
   "metadata": {},
   "source": [
    "Dada una función  $f$ que mapea matrices  $m$-by-$n$ a números reales, podemos definir el  _gradiente_ $\\nabla_A f(A)$ como una matriz $m$-by-$n$ cuyo elemento  $(i,j)$ es $\\partial f/\\partial A_{ij}$. Algunas propiedades de los gradientes (véase el apéndice del libro de Bishop para los detalles), son los siguientes:\n",
    "\n",
    "- $\\nabla_{A}Tr(AB)=B^T$ **[11]**\n",
    "- $\\nabla_{A}Tr(A^TB)=B$ **[12]**\n",
    "- $\\nabla_{A}Tr(A)=I$ **[13]**\n",
    "- $ \\nabla_{A}Tr(ABA^T)=A(B+B^T)$**[14]**\n",
    "\n",
    "Y el precioso:\n",
    "\n",
    "- $\\nabla_{A}\\ln|A|=(A^{-1})^T$**[15]**\n",
    "\n",
    "Dos propiedades más, tomadas de las notas del curso de Andrew Ng:\n",
    "\n",
    "- $\\nabla_{A^T} f(A)= (\\nabla_{A} f(A))^T$ **[16]**\n",
    "- $\\nabla_{A} Tr(ABA^TC) = CAB + C^TAB^T$ **[17]**"
   ]
  },
  {
   "cell_type": "markdown",
   "metadata": {
    "colab_type": "text",
    "id": "Hs2DWN5wKz7d"
   },
   "source": [
    "## 10. Matrices para Aprendizaje Automático"
   ]
  },
  {
   "cell_type": "markdown",
   "metadata": {
    "colab_type": "text",
    "id": "GLJ0NM7qKz7e"
   },
   "source": [
    "Es difícil encontrar un método de aprendizaje automático que no utilice matrices. Desde la regresión lineal hasta las redes neuronales profundas, pasando por el Análisis de Componentes Principales, las cosas son mucho más fáciles si utilizamos matrices y vectores. Solo como ejemplo, mostremos cómo encontrar una solución de forma cerrada para el problema de regresión lineal, siguiendo exactamente las  [notas](http://cs229.stanford.edu/notes/cs229-notes1.pdf) de Andew Ng. En la siguiente sección, veremos cómo implementar todo usando Python.\r\n",
    "\r\n",
    "Primero, definamos el problema de la regresión lineal: tenemos una serie de características de entrada de $\\mathbb{R}^n$, denotadas como $x$, y un valor objetivo asociado $y$ en $\\mathbb{R}$. Nuestra hipótesis es que, dado $x$, $h(x) = \\sum_{i=0}^{i=n} \\theta_i x_i$ (asumiendo que $x_0=1$), o, usando notación matricialobserveva cuánto más fácil se ve)s):\n",
    "\n",
    "$h(x)=\\theta^T x$\n",
    "\n"
   ]
  },
  {
   "cell_type": "markdown",
   "metadata": {
    "colab_type": "text",
    "id": "jW_WlFAhKz7f"
   },
   "source": [
    "\n",
    "(Note que, por convención, una instancia de $\\mathbb{R}^n$ se considera un vector columna). Lo que queremos hacer es encontrar $\\theta^T$, dado un conjunto de entrenamiento (es decir, instancias de $\\mathbb{R}^n$ y sus valores objetivo asociados). La función de coste que queremos minimizar con respecto a $\\theta$ es la siguiente:\n",
    "\n",
    "$J(\\theta) = \\frac{1}{2}\\sum_{i=1}^{i=m} (h_\\theta(x^{(i)})- y^{(i)})^2$\n",
    "\n",
    "donde $x^{(i)}$ denota la i-ésima instancia , y $y^{(i)}$ su valor. Este método es llamado _de mínimos cuadrados_.\n"
   ]
  },
  {
   "cell_type": "markdown",
   "metadata": {
    "colab_type": "text",
    "id": "lEqTH6HQKz7f"
   },
   "source": [
    "Una forma típica de minimizar $J$ es utilizando algún método numérico, por ejemplo, descenso por gradiente, que permite minimizar cualquier función convexa de múltiples variables. Sin embargo, para los mínimos cuadrados, existe una solución de forma cerrada, que mostraremos. El uso de notación matricial hará las cosas mucho más fáciles que si tuviéramos que usar notación indexada.\r\n",
    "\r\n",
    "Primero, reescribamos $J$ usando notación matricial:\r\n",
    "\r\n",
    "$J(\\theta) = \\frac{1}{2}(X\\theta - y)^T(X\\theta - y)$\r\n",
    "\r\n",
    "donde $X$ es la matriz de diseño que incluye los valores de entrada de las instancias de entrenamiento como filas, y $y$ es una matriz columna que incluye los valores objetivo correspondiepuede intentarpuedes usar notación indexada para verificar la equivalencia, teniendo en cuenta que $zz^T$ es igual a la suma de los elementos al cuadrado e $z$!).\n"
   ]
  },
  {
   "cell_type": "markdown",
   "metadata": {
    "colab_type": "text",
    "id": "obwkEQY3Kz7g"
   },
   "source": [
    "A partir de aquí, las cosas son fáciles (especialmente si se comparan a las versiones con índices...). Primero, usamos [1]:"
   ]
  },
  {
   "cell_type": "markdown",
   "metadata": {
    "colab_type": "text",
    "id": "SX8cgK1jKz7h"
   },
   "source": [
    "$$\n",
    "\\nabla_\\theta J(\\theta) =\\nabla_\\theta\\frac{1}{2}(X\\theta - y)^T(X\\theta - y) = \\nabla_\\theta\\frac{1}{2} (\\theta^TX^TX\\theta - \\theta^TX^Ty - y^TX\\theta+ yy^T) \n",
    "$$\n"
   ]
  },
  {
   "cell_type": "markdown",
   "metadata": {
    "colab_type": "text",
    "id": "X-_R0wZtKz7h"
   },
   "source": [
    "Como $J(\\theta)$ es un número real su traza es el propio número"
   ]
  },
  {
   "cell_type": "markdown",
   "metadata": {
    "colab_type": "text",
    "id": "WsH0w-P5Kz7i"
   },
   "source": [
    "$$\n",
    "\\nabla_\\theta J(\\theta) =\\nabla_\\theta\\mathrm{Tr}(\\frac{1}{2} (\\theta^TX^TX\\theta - \\theta^TX^Ty - y^TX\\theta+ yy^T))\n",
    "$$\n",
    "\n",
    "\n"
   ]
  },
  {
   "cell_type": "markdown",
   "metadata": {
    "colab_type": "text",
    "collapsed": true,
    "id": "JXPT-XkaKz7j",
    "jupyter": {
     "outputs_hidden": true
    }
   },
   "source": [
    "Como $\\mathrm{Tr}(A) = \\mathrm{Tr}(A^T)$:\n",
    "\n",
    "$$\n",
    "\\nabla_\\theta J(\\theta) = \\frac{1}{2} \\nabla_\\theta(\\mathrm{Tr}(\\theta^TX^TX\\theta) - 2 \\mathrm{Tr}(\\theta^TX^Ty) + \\mathrm{Tr}(yy^T))\n",
    "$$"
   ]
  },
  {
   "cell_type": "markdown",
   "metadata": {
    "colab_type": "text",
    "collapsed": true,
    "id": "79qCRfr9Kz7j",
    "jupyter": {
     "outputs_hidden": true
    }
   },
   "source": [
    "Aplicando [16] y [17] obtenemos:"
   ]
  },
  {
   "cell_type": "markdown",
   "metadata": {
    "colab_type": "text",
    "id": "Mk5et7OLKz7l"
   },
   "source": [
    "$$\n",
    "\\nabla_\\theta J(\\theta) = \\frac{1}{2} (X^TX\\theta + X^TX\\theta -2X^Ty )= X^TX\\theta -X^Ty\n",
    "$$"
   ]
  },
  {
   "cell_type": "markdown",
   "metadata": {
    "colab_type": "text",
    "id": "-lP_Y0ZHKz7m"
   },
   "source": [
    "Para minimizar $J$, igualamos el gradiente a 0, y obtenemos\n",
    "\n",
    "$$\n",
    "X^TX\\theta = X^Ty\n",
    "$$\n",
    "\n",
    "y con esto obtenemos una fórmula cerrada para nuestro vector de parámetros  $\\theta$:\n",
    "\n",
    "$$\n",
    "\\theta = (X^TX)^{-1}X^Ty\n",
    "$$"
   ]
  },
  {
   "cell_type": "markdown",
   "metadata": {
    "colab_type": "text",
    "id": "3kRlaDXOKz7n"
   },
   "source": [
    "## 11. Regresion lineal con Python"
   ]
  },
  {
   "cell_type": "markdown",
   "metadata": {
    "colab_type": "text",
    "id": "9jIC2lXUKz7o"
   },
   "source": [
    "Supongamos que tenemos una clase objetivo _y_ (por ejemplo, el precio de una casa), que depende de 3 atributos de valor real $x_1, x_2, x_3$ (digamos, número de habitaciones, impuesto mínimo y antigüedad de la casa). Supongamos que tenemos los atributos y precios de 10 casas. _Si asumimos que el precio de una casa es una combinación lineal de los tres atributos_, $y = \\theta_0 + \\theta_1x_1 + \\theta_2x_2 + \\theta_3x_3$, y que debemos encontrar los valores de $\\theta$. Podemos definir $X$ (la matriz de diseño) y $y$ de la siguiente manera:\r\n",
    "\r\n",
    "Matriz de diseño $X$:\r\n",
    "Esta matriz tendrá 10 filas (una por cada casa) y 4 columnas. La primera columna será siempre $1$ (correspondiente al término de intercepción $\\theta_0$), seguida de los valores de los tres atributos para cada casa."
   ]
  },
  {
   "cell_type": "code",
   "execution_count": 117,
   "metadata": {
    "colab": {
     "base_uri": "https://localhost:8080/",
     "height": 201
    },
    "colab_type": "code",
    "id": "zlsDJA4ZKz7p",
    "outputId": "a5400661-870e-4210-82be-f0fa8fbdad2f"
   },
   "outputs": [
    {
     "name": "stdout",
     "output_type": "stream",
     "text": [
      "[[ 1.   1.   1.9  1.1]\n",
      " [ 1.   0.1  1.   1. ]\n",
      " [ 1.   1.1  1.   0.1]\n",
      " [ 1.   1.1  1.1  0.9]\n",
      " [ 1.   2.1  1.2  1. ]\n",
      " [ 1.   0.9  1.   3. ]\n",
      " [ 1.   3.1  0.9  3. ]\n",
      " [ 1.   1.9  0.9  2.1]\n",
      " [ 1.   0.  -0.1  1.1]\n",
      " [ 1.   1.   1.   0.1]]\n"
     ]
    }
   ],
   "source": [
    "X=np.array([\n",
    "[1.0,1.0,1.9,1.1],\n",
    "[1.0,0.1,1.0,1.0],\n",
    "[1.0,1.1,1.0,0.1],\n",
    "[1.0,1.1,1.1,0.9],\n",
    "[1.0,2.1,1.2,1.0],\n",
    "[1.0,0.9,1.0,3.0],\n",
    "[1.0,3.1,0.9,3.0],\n",
    "[1.0,1.9,0.9,2.1],\n",
    "[1.0,0.0,-0.1,1.1],\n",
    "[1.0,1.0,1.0,0.1]\n",
    "])\n",
    "print (X)\n"
   ]
  },
  {
   "cell_type": "code",
   "execution_count": 118,
   "metadata": {
    "colab": {
     "base_uri": "https://localhost:8080/",
     "height": 35
    },
    "colab_type": "code",
    "id": "467GOJA-Kz7t",
    "outputId": "bf9e3bf7-f337-496b-fcbf-f24cc831115b"
   },
   "outputs": [
    {
     "name": "stdout",
     "output_type": "stream",
     "text": [
      "[ 5.   2.   4.1  3.   5.   1.   2.8  2.6 -0.4  4.1]\n"
     ]
    }
   ],
   "source": [
    "y=np.array([5.0,2.0,4.1,3.0,5.0,1.0,2.8,2.6,-0.4,4.1])\n",
    "print (y)\n"
   ]
  },
  {
   "cell_type": "markdown",
   "metadata": {
    "colab_type": "text",
    "id": "GtrS7M6GKz7v"
   },
   "source": [
    "Observe que agregamos una columna a la izquierda de la matriz, con todas sus celdas en 1. Esto es para agregar un nuevo atributo $x_0$ attribute, como hicimos antes. Podemos ahora calcular los parámetros para el hiperplano que minimiza la suma de los cuadrados utilizando la fórmula previa ($\\theta = (X^TX)^{-1}X^Ty$):"
   ]
  },
  {
   "cell_type": "code",
   "execution_count": 122,
   "metadata": {
    "colab": {
     "base_uri": "https://localhost:8080/",
     "height": 35
    },
    "colab_type": "code",
    "id": "MSvKlTntKz7w",
    "outputId": "62918b07-1c0b-4ce3-c51b-a041fc44c5db"
   },
   "outputs": [
    {
     "name": "stdout",
     "output_type": "stream",
     "text": [
      "[ 0.87782702  1.051817    2.18366554 -1.05476926]\n"
     ]
    }
   ],
   "source": [
    "theta = (np.linalg.inv(np.transpose(X)@X)@np.transpose(X)@y)\n",
    "print(theta)"
   ]
  },
  {
   "cell_type": "markdown",
   "metadata": {
    "colab_type": "text",
    "id": "dpZ7wwk-Kz7z"
   },
   "source": [
    "Verifiquemos que el vector de parámetros que encontramos multiplicado por los atributos de cada instancia nos da valores aproximados a la celda $y$ correspondiente. Podemos hacerlo para todos los ejemplos, calculando $X\\theta$"
   ]
  },
  {
   "cell_type": "code",
   "execution_count": 123,
   "metadata": {
    "colab": {
     "base_uri": "https://localhost:8080/",
     "height": 54
    },
    "colab_type": "code",
    "id": "M8Klf7ahKz7z",
    "outputId": "00f196f0-160a-4fec-d2fd-3342a6b20107"
   },
   "outputs": [
    {
     "name": "stdout",
     "output_type": "stream",
     "text": [
      "[ 4.91836235  2.111905    4.11301432  3.48756547  4.6522721   0.84382008\n",
      "  2.93945092  2.62656285 -0.50078572  4.00783262]\n"
     ]
    }
   ],
   "source": [
    "print (X@theta)\n"
   ]
  },
  {
   "cell_type": "markdown",
   "metadata": {
    "colab_type": "text",
    "id": "iuPBiMn2Kz72"
   },
   "source": [
    "Por supuesto, a) el de mínimos cuadrados es un método muy simple de regresión y b) cualquier paquete de aprendizaje automático o estadística incluye formas mucho más eficiente de encontrar $\\theta$. Por ejemplo, utilizando la biblioteca `linalg`:"
   ]
  },
  {
   "cell_type": "code",
   "execution_count": 125,
   "metadata": {
    "colab": {
     "base_uri": "https://localhost:8080/",
     "height": 110
    },
    "colab_type": "code",
    "id": "nKuA74wUKz73",
    "outputId": "fa0278fa-eb2c-4572-deb5-075387fb575f"
   },
   "outputs": [
    {
     "name": "stdout",
     "output_type": "stream",
     "text": [
      "[ 0.87782702  1.051817    2.18366554 -1.05476926]\n"
     ]
    }
   ],
   "source": [
    "print (np.linalg.lstsq(X, y,rcond=None)[0])"
   ]
  }
 ],
 "metadata": {
  "colab": {
   "include_colab_link": true,
   "name": "2. - Matrices for data scientists.ipynb",
   "provenance": []
  },
  "kernelspec": {
   "display_name": "Python 3 (ipykernel)",
   "language": "python",
   "name": "python3"
  },
  "language_info": {
   "codemirror_mode": {
    "name": "ipython",
    "version": 3
   },
   "file_extension": ".py",
   "mimetype": "text/x-python",
   "name": "python",
   "nbconvert_exporter": "python",
   "pygments_lexer": "ipython3",
   "version": "3.11.11"
  }
 },
 "nbformat": 4,
 "nbformat_minor": 4
}
