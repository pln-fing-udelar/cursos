{
 "cells": [
  {
   "cell_type": "markdown",
   "id": "41340d80-a5cc-4900-891d-782ad6d6034c",
   "metadata": {},
   "source": [
    "# Entropía Cruzada\n",
    "\n",
    "Facultad de Ingeniería - Universidad de la República - Uruguay\n",
    "\n",
    "24 de setiembre de 2025"
   ]
  },
  {
   "cell_type": "markdown",
   "id": "6af1e3ab-a435-4746-8597-80ea6aa27480",
   "metadata": {},
   "source": [
    "[![Open In Colab](https://colab.research.google.com/assets/colab-badge.svg)](https://colab.research.google.com/github/pln-fing-udelar/cursos/blob/master/tutoriales/Entropía-Cruzada.ipynb)\n",
    "\n",
    "En este notebook intentaremos explicar por qué la entropía cruzada es una función de pérdida \"natural\" para una regresión logística o una red neuronal con salidas que representan una distribución de probabilidad. "
   ]
  },
  {
   "cell_type": "markdown",
   "id": "db3ba9ef-668f-4e77-b519-60887db246c7",
   "metadata": {},
   "source": [
    "## Una red de ejemplo"
   ]
  },
  {
   "cell_type": "markdown",
   "id": "5a75faf0-6d11-4177-8baf-99fa28ed8ff8",
   "metadata": {},
   "source": [
    "Consideremos una red neuronal que, dada una entrada $x^T = (x_1, x_2, \\ldots x_n)$, devuelve la distribución de probabilidad para tres clases A, B, y C. Supongamos que tiene una capa oculta, y al final una capa con tres neuronas, a las que se le aplica una función de activación softmax sobre su salida. Nuestra red devolverá, entonces, tres números entre 0 y 1, que suman 1, y que corresponden a las probabilidades de las clases A,B,C respectivamente "
   ]
  },
  {
   "cell_type": "markdown",
   "id": "a5c0043c-0178-4b5c-8297-1689ef7028e2",
   "metadata": {},
   "source": [
    "Si, por ejemplo, tenemos tres valores de activación $[z_1,z_2,z_3]$, al aplicar softmax obtendremos: \n",
    "$$ \n",
    "\\text{softmax}([z_1,z_2,z_3])= \\left[\n",
    "\\frac{e^{z_1}}{\\sum_{i=1}^3 e^{z_i}},\\frac{e^{z_2}}{\\sum_{i=1}^3 e^{z_i}},\\frac{e^{z_3}}{\\sum_{i=1}^3 e^{z_i}}] \n",
    "\\right]\n",
    "$$\n",
    "\n",
    "Llamaremos a los $z_i$ _logits_. "
   ]
  },
  {
   "cell_type": "code",
   "execution_count": 1,
   "id": "9c665cff-5907-478c-81e3-92638829a01a",
   "metadata": {
    "jupyter": {
     "source_hidden": true
    }
   },
   "outputs": [
    {
     "name": "stdout",
     "output_type": "stream",
     "text": [
      "Resultado softmax: [0.6652 0.2447 0.09  ]\n",
      "Suma de las probabilidades: 0.9999999999999999\n"
     ]
    }
   ],
   "source": [
    "import scipy as sp\n",
    "import numpy  as np\n",
    "np.set_printoptions(suppress=True,precision=4)\n",
    "s = sp.special.softmax([3,2,1])\n",
    "print(\"Resultado softmax: {}\".format(s))\n",
    "print(\"Suma de las probabilidades: {}\".format(np.sum(s)))"
   ]
  },
  {
   "cell_type": "markdown",
   "id": "7b8abdbb-4e37-44b9-b8c6-5bb7038c93af",
   "metadata": {},
   "source": [
    "Nuestro ejemplos para entrenar la red serán vectores one-hot, donde el valor 1 indica cuál es la clase correcta. Por ejemplo, si una instancia tiene clase 3, su vector será $[0,0,1]^T$. Llamaremos al i-ésimo ejemplo de entrenamiento $(x^{(i)},y^{(i)})$"
   ]
  },
  {
   "cell_type": "markdown",
   "id": "479617d8-0584-481f-8ff3-89ca5482a8f2",
   "metadata": {},
   "source": [
    "## La función de pérdida"
   ]
  },
  {
   "cell_type": "markdown",
   "id": "7c36c36e-ac9f-4175-befe-bcdc231cbd67",
   "metadata": {},
   "source": [
    "Queremos una función de pérdida que:\n",
    "\n",
    "- Dependa solamente de la salida de mi red, y de cada instancia de entrenamiento\n",
    "- Pueda calcularse como el promedio de las pérdidas de las diferentes instancias de entrenamiento\n",
    "- Sea una medida del error cometido por la red\n",
    "\n",
    "Cuando tengamos esa función, buscaremos los parámetros de la red que la minimicen, utilizando backpropagation y descenso por gradiente (o una variante).\n",
    "\n",
    "La *entropía cruzada* es esa función de pérdida, y vale:\n",
    "\n",
    "$$ L(y,\\hat{y}) = - \\sum_{i=1}^m \\sum_{j=1}^C y_{j}^{(i)}\\log\\hat{y}_{j}^{(i)} $$\n",
    "\n",
    "siendo $\\hat{y}$ el vector de salida de la red, $m$ el número de instancias de entrenamiento y $C$ la cantidad de clases posibles (en nuestro caso, 3). Podemos notar que, para cada instancia, solamente habrá una clase $j$ para la cual el producto no dé 0 (aquel en el que $\\hat{y}_{j} =1$)."
   ]
  },
  {
   "cell_type": "markdown",
   "id": "57feb4f3-92cb-4c05-8a00-79bb119cd0e6",
   "metadata": {},
   "source": [
    "Por ejemplo, si la salida de nuestra red es $ \\hat{y} = [0.2, 0.7, 0.1]^T$ y la instancia de entrenamiento vale $y = [0,1,0]^T$, entonces \n",
    "\n",
    "$$ L(y,\\hat{y}) = - \\log 0.7 = 0.51 $$ \n",
    "\n",
    "Puede verse que, si  $ \\hat{y}^T = y^T = [0,1,0]$, entonces $ L(y,\\hat{y}) = - \\log 1 = 0$. También podemos ver que si  $ \\hat{y} = y = [0.5,1,0.5]^T$, nuestra función de pérdida no está definida! (en estos casos, las soluciones pasan por hacer clipping de los resultados o utilizar directamente los logits, pero eso va más alla de este tutorial).\n",
    "\n",
    "Entonces, la pregunta que queremos responder es: *¿por qué elegimos esta función?*"
   ]
  },
  {
   "cell_type": "markdown",
   "id": "c483ce99-b611-4856-a9c5-849810aa6332",
   "metadata": {},
   "source": [
    "## Meet Claude Shannon"
   ]
  },
  {
   "attachments": {},
   "cell_type": "markdown",
   "id": "68e18c6b-f0c2-4dbe-a579-41beea00122f",
   "metadata": {},
   "source": [
    "En su artículo \"A Mathematical Theory of Communication\" Shannon se propuso (entre otras cosas) medir la cantidad de información que da un evento, a partir solamente de su probabilidad de ocurrencia. Supongamos que tenemos un evento con probabilidad $p$ de ocurrir, y queremos que la información (o la sorpresa, o la incertidumbre) de ese evento cumpla ciertas propiedades:\n",
    "\n",
    "1. $I(p)$ decrece monótonamente con p. Es decir que si p crece, $I(p)$ decrece. Esto tiente sentido: cuanto más improbable es un evento, más nos sorprende que suceda, y tenemos más incertidumbre sobre su ocurrencia. Acertar a rojo en la ruleta no nos parece tan raro como acertar número. \n",
    "2. $I(1) = 0$. Si el evento ocurre siempre, no nos da ninguna información, no disminuye en nada nuestra sorpresa.\n",
    "3. $I(p_1\\cdot p_2) = I(p_1) + I(p_2)$ si ambos eventos son independientes, la sorpresa de ver ambos eventos es la suma de las sorpresas de ver cada uno por separado.\n",
    "4. $I(p)$ es doblemente continua y diferenciable.\n",
    "\n",
    "Shannon encontró que una función que cumplía esto era $log(1/p) = -log(p)$ (y, de hecho, es la única, a menos de una constante $k$ que lo multiplique). Entonces, cada vez que veamos algo como $-log(p)$, recordemos primero que es lo mismo que $log(1/p)$ y que eso es una medida de la información que nos da el evento. \n",
    "\n",
    "Si el logaritmo es en base 2, entonces $I(p)$ son los bits necesarios para representar  $1/p$. Por ejemplo, si $p=1/4$, entonces $I(p)=log(2^2)=2$. Si $p=1/8$, entonces $I(p)=3$, y si $p=1$, entonces $I(p)=0$. \n",
    "\n",
    "La función $-log(p)$ luce así: "
   ]
  },
  {
   "cell_type": "code",
   "execution_count": 2,
   "id": "438ea2a8-58c0-44d2-a602-3cf5f7c53893",
   "metadata": {
    "jupyter": {
     "source_hidden": true
    }
   },
   "outputs": [
    {
     "data": {
      "image/png": "[encoded data removed]",
      "text/plain": [
       "<Figure size 400x300 with 1 Axes>"
      ]
     },
     "metadata": {},
     "output_type": "display_data"
    }
   ],
   "source": [
    "import numpy as np\n",
    "import matplotlib.pyplot as plt\n",
    "import seaborn as sns\n",
    "\n",
    "# Generate some data for p\n",
    "p = np.linspace(0.01, 2.5, 100) # Avoid log(0)\n",
    "\n",
    "# Calculate -log2(p)\n",
    "neg_log_p = -np.log2(p)\n",
    "\n",
    "\n",
    "# Plot the function using seaborn\n",
    "plt.figure(figsize=(4, 3))\n",
    "sns.lineplot(x=p, y=neg_log_p)\n",
    "plt.xlabel('p')\n",
    "plt.ylabel('-log(p)')\n",
    "plt.title('Plot de -log(p)')\n",
    "plt.grid(True)\n",
    "plt.show()"
   ]
  },
  {
   "cell_type": "markdown",
   "id": "b8a4d333-e69c-4598-980f-ee8863dbc905",
   "metadata": {},
   "source": [
    "### Entropía\n",
    "\n",
    "Si tenemos una distribución de la probabilidad de los eventos, la _entropía_ es simplemente el promedio ponderado de la información de cada evento, es decir: \n",
    "\n",
    "$$ H(p) = \\sum_{i=1}^n p_i I(p_i) =  \\sum_{i=1}^n p_i log(1/p_i) = \\sum_{i=1}^n p_i [- log(p_i)] =  -\\sum_{i=1}^n p_i log(p_i)     $$\n",
    "\n",
    "(y Shannon mostró que es la mínima cantidad de bits en promedio que podemos utilizar para representar los eventos).\n",
    "\n",
    "La entropía cumple que es 0 si la distribución tiene un $p_i=1$, y es máxima si todos los eventos son equiprobables (y por eso mide que tan \"aleatorio\" es el conjunto de eventos).\n",
    "\n",
    "Usemos NumPy para calcular la entropía de la siguiente distribución de probabilidad [1/4, 1/2, 1/8,1/8]:"
   ]
  },
  {
   "cell_type": "code",
   "execution_count": 4,
   "id": "148b77a8-3fc7-4dac-8610-5562fda75439",
   "metadata": {},
   "outputs": [
    {
     "name": "stdout",
     "output_type": "stream",
     "text": [
      "Entropía de p:1.75\n",
      "Entropía máxima:2.0\n"
     ]
    }
   ],
   "source": [
    "p = [1/4, 1/2, 1/8, 1/8]\n",
    "H=-sum(p * np.log2(p))\n",
    "\n",
    "print(\"Entropía de p:{}\".format(H))\n",
    "p = [1/4, 1/4, 1/4, 1/4]\n",
    "H=-sum(p * np.log2(p))\n",
    "print(\"Entropía máxima:{}\".format(H))\n"
   ]
  },
  {
   "cell_type": "markdown",
   "id": "08580826-21a4-45a4-9836-a1777f214e77",
   "metadata": {},
   "source": [
    "Veamos la curva de la entropía cuando solamente tenemos dos eventos"
   ]
  },
  {
   "cell_type": "code",
   "execution_count": 8,
   "id": "2084e22e-ddf0-4ab2-a5ae-cbb44c4f9c39",
   "metadata": {},
   "outputs": [
    {
     "data": {
      "image/png": "[encoded data removed]",
      "text/plain": [
       "<Figure size 600x300 with 1 Axes>"
      ]
     },
     "metadata": {},
     "output_type": "display_data"
    }
   ],
   "source": [
    "p = np.linspace(0.01, 0.99, 100)  # Avoid log(0) and log(1)\n",
    "\n",
    "\n",
    "# Calculate entropy for two events: -p*log2(p) - (1-p)*log2(1-p)\n",
    "entropy = -p * np.log2(p) - (1 - p) * np.log2(1 - p)\n",
    "\n",
    "# Plot the entropy curve\n",
    "plt.figure(figsize=(6, 3))\n",
    "sns.lineplot(x=p, y=entropy)\n",
    "plt.xlabel('Probabilidad de un evento (p)')\n",
    "plt.ylabel('Entropía')\n",
    "plt.title('Entropía de una distribución con dos eventos')\n",
    "plt.grid(True)\n",
    "plt.show()"
   ]
  },
  {
   "cell_type": "markdown",
   "id": "9a59bcf1-89b7-465b-932e-a5dd871ae0b3",
   "metadata": {},
   "source": [
    "### Entropía Cruzada"
   ]
  },
  {
   "cell_type": "markdown",
   "id": "bdeaf046-dbbb-446b-a7da-d124008a6655",
   "metadata": {},
   "source": [
    "Ahora supongamos que _estimamos_ la probabilidad de los eventos, con una distribución $q$ (sabemos que la verdadera es $p$, pero no la conocemos). La información en q será, entonces: $I(q) = -log(q)$. \n",
    "\n",
    "La entropía cruzada será el promedio ponderado de la información, calculada con $q$. El asunto es que, para ponderar, utilizamos la distribución verdadera, ya que lo que queremos obtener es el promedio de bits que utilizaremos \"en el mundo real\", si estimamos la información utilizando $q$ en vez de $p$. Por lo tanto:\n",
    "\n",
    "$$ H(p,q) =   -\\sum_{i=1}^n p_i log(q_i)     $$\n",
    "\n",
    "\n",
    "Podemos observar que si $p$ y $q$ son iguales, entonces $ H(p,q) = H(p)$.\n",
    "\n",
    "Ahora supongamos que yo _sé_ que mi clase es $k$. En ese caso, la formula para la entropía cruzada se reduce a: \n",
    "\n",
    "$$ H(p,q) =   - log(q_k)     $$\n",
    "\n",
    "(porque tenemos $p_k =1$ y $p_i =0$ para todo $i\\neq k$).\n",
    "\n",
    "A la diferencia entre la entropía cruzada $H(p,q)$ y $H(p)$ la llamaremos _divergencia de Kullback-Lieber_ o _entropía relativa_, y vale:\n",
    "\n",
    "$$ D_{K_L}(p||q) =  H(p,q) - H(p) =  -\\sum_{i=1}^n p_i log(q_i) + \\sum_{i=1}^n p_i log(p_i) = \\sum_{i=1}^n p_i(-\\log q_i + \\log p_i) =  \\sum_{i=1}^n p_i \\log \\frac{p_i}{q_i}$$"
   ]
  },
  {
   "cell_type": "markdown",
   "id": "067eac6b-16cd-4a20-9f02-b0a8b88628d1",
   "metadata": {},
   "source": [
    "### Entropía Cruzada como función de pérdida"
   ]
  },
  {
   "cell_type": "markdown",
   "id": "7068bb6e-6982-434c-9627-20fd807926d9",
   "metadata": {},
   "source": [
    "Si volvemos a nuestra red neuronal, podemos ver que nuestra función de pérdida es simplemente el promedio de las entropías cruzadas para cada uno de los ejemplos de entrenamiento. \n",
    "\n",
    "$$ L(y,\\hat{y}) = - \\sum_{i=1}^m \\sum_{j=1}^C y_{j}^{(i)}\\log\\hat{y}_{j}^{(i)} $$\n",
    "\n",
    "\n",
    "Y podemos definirla como el promedio de menos el logaritmo de la probabilidad asignada por la red a la clase correcta, según el conjunto de entrenamiento. Recordando a Shannon, podemos decir que es la \"sorpresa\" o la incertidumbre que tiene nuestra red sobre la clase correcta: esa sorpresa es mi medida del error (y cuanto más alta sea, mayor será la pérdida). \n",
    "\n",
    "Como vimos antes, si mi red le asigna una probabilidad $0.7$ a la clase correcta (para un ejemplo en particular), su loss será $-log(0.7)=0.51$. Si la probabilidad es 1, entonces la pérdida será $-log(1)=0$. Podemos ver que la función de pérdida varía entre 0 y más infinito. \n",
    "\n",
    "A la entropía cruzada también se la llama _negative log likelihood loss_. El \"negative log\" está explicado más arriba. ¿Por qué _likelihood_? \n",
    "\n"
   ]
  },
  {
   "cell_type": "markdown",
   "id": "d954f6d8-878c-4091-98f8-95db80d542b1",
   "metadata": {},
   "source": [
    "### Entropia cruzada como función de verosimilitud"
   ]
  },
  {
   "cell_type": "markdown",
   "id": "827a6cb1-50ce-4df2-8825-6d1ed9bca13f",
   "metadata": {},
   "source": [
    "En probabilidad, la función de verosimilitud (en inglés, _likelihood_) mide, a partir de una muestra, la probabilidad de ver esos datos en función de los parámetros del modelo. En nuestro caso, nuestro modelo es la red, y lo que queremos son los parámetros que maximizan la probabilidad $p(y=k|x)$, siendo $k$ la clase correcta (según nuestra instancia de entrenamiento). Sabemos (por ser los ejemplos one-hot) que: \n",
    "\n",
    "$$ p(y|x;\\text{modelo}) = \\hat{y}_k$$\n",
    "\n",
    "La verosimilitud (asumiendo independencia entre las instancias) será el producto de las probabilidades individuales:\n",
    "\n",
    "$$ L = \\prod_{i=1}^m \\prod_{j=1}^C (\\hat{y}_j^{(i)})^{y_{j}^{(i)}} $$\n",
    "\n",
    "(Para ser exactos, estamos calculando una verosimilitud _condicional_, porque el valor depende de los parámetros del modelo,  condicionado a la entrada $x$).\n",
    "\n",
    "Si tomamos logaritmos, nuestra productoria se convierte en una sumatoria, y los exponentes pasan a multiplicar los valores de la información (i.e. los logaritmos)\n",
    "\n",
    "$$ LL = \\sum_{i=1}^m \\sum_{j=1}^C y_{j}^{(i)} \\log(\\hat{y}_j^{(i)}) $$\n",
    "\n",
    "Como queremos minimizar en vez de maximizar, multiplicamos todo por (-1) y obtenemos:\n",
    "\n",
    "$$ NLL = - \\sum_{i=1}^m  \\sum_{j=1}^C y_{j}^{(i)} \\log(\\hat{y}_j^{(i)}) $$\n",
    "\n",
    "\r",
    "Que es exactamente nuestra función de pérdida!\n",
    "\n",
    "\n",
    "\r\n",
    "\n",
    "\r\n"
   ]
  },
  {
   "cell_type": "markdown",
   "id": "71c9754d-eba0-4967-9fc7-ffadf76593ee",
   "metadata": {},
   "source": [
    "### ¿Y la regresión logística? "
   ]
  },
  {
   "cell_type": "markdown",
   "id": "c966825a-2376-4b6d-bbf3-200a4f5f2039",
   "metadata": {},
   "source": [
    "Con todo lo explicado antes, la regresión logística es solamente un caso particular, donde tenemos dos clases, y cambiamos un poco el comportamiento de la red: ahora, tenemos una sola neurona de salida que nos da la probabilidad de la clase positiva (y, por lo tanto, asumiendo que la probabilidad de la clase negativa sera 1 menos ese valor). Entonces, la entropía cruzada cambia a esta fórmula, que es exactamente igual a la anterior:\n",
    "\n",
    "$$ L(y,\\hat{y}) = - \\sum_{i=1}^m \\sum_{j=1}^C y_{j}^{(i)}\\log\\hat{y}_{j}^{(i)} = \\sum_{i=1}^m y'^{(i)}\\log\\hat{y'}^{(i)} + (1 - y'^{(i)})\\log(1-\\hat{y'}^{(i)}) $$\n",
    "\n",
    "(Hemos llamado $y'$ al valor la clase positiva, y $\\hat{y'}$ a la salida de la red)\n"
   ]
  },
  {
   "cell_type": "markdown",
   "id": "d10a905f-c133-4b96-8780-e5bfc2eddcf3",
   "metadata": {},
   "source": [
    "### La función de costo Entropía Cruzada en PyTorch"
   ]
  },
  {
   "cell_type": "markdown",
   "id": "0377c220-997e-43e0-b959-2944c1fb93b9",
   "metadata": {},
   "source": [
    "En PyTorch, la pérdida por entropía cruzada admite dos formas distintas para aplicarla. Con lo que vimos antes, debería ser claro su uso.\n",
    "\n",
    "La primera es `torch.nn.CrossEntropyLoss`: esta función computa la entropía cruzada partiendo de los _logits_ (i.e. los valores antes de hacer softmax). Los ejemplos de entrenamiento pueden tener un índice de clase, o una distribución de probabilidad sobre las clases. \n",
    "\n"
   ]
  },
  {
   "cell_type": "code",
   "execution_count": 53,
   "id": "29571c64-48a9-4f30-9db8-06586381ab84",
   "metadata": {},
   "outputs": [
    {
     "name": "stdout",
     "output_type": "stream",
     "text": [
      "tensor(2.9620)\n",
      "2.9620287\n"
     ]
    }
   ],
   "source": [
    "import torch\n",
    "from torch import nn\n",
    "import scipy as sp\n",
    "\n",
    "# Example of target with class indices\n",
    "loss = nn.CrossEntropyLoss()\n",
    "\n",
    "# Salida de la red (sin aplicar softmax), en este caso tenemos 3 instancias de 5 clases cada una \n",
    "#input = torch.randn(3, 5, requires_grad=True) # Target tiene la clase de cada instancia\n",
    "input = torch. tensor([[ 0.7896, -1.3428,  0.4499, -0.4486, -1.8486],\n",
    "        [-2.1771,  0.5159,  1.4877, -1.6626, -0.6794],\n",
    "        [ 0.3828, -1.1884,  2.0914,  1.9666,  0.5588]], requires_grad=False)\n",
    "target = torch.tensor([1,3,4])\n",
    "output = loss(input, target)\n",
    "\n",
    "print(output)\n",
    "\n",
    "\n",
    "# Verificamos las cuentas. Lo hago caso a caso para que quede bien clarito.\n",
    "instancia1 = input[0].numpy()\n",
    "instancia2 = input[1].numpy()\n",
    "instancia3 = input[2].numpy()\n",
    "\n",
    "# Hago el softmax de cada instancia\n",
    "soft1 = sp.special.softmax(instancia1)\n",
    "soft2 = sp.special.softmax(instancia2)\n",
    "soft3 = sp.special.softmax(instancia3)\n",
    "\n",
    "# Calculo, para cada instancia el -log de la clase \"correcta\"\n",
    "loss1 = -np.log(soft1[1])\n",
    "loss2 = -np.log(soft2[3])\n",
    "loss3 = -np.log(soft3[4])\n",
    "\n",
    "print (np.mean([loss1,loss2,loss3]))\n",
    "\n",
    "\n"
   ]
  },
  {
   "cell_type": "markdown",
   "id": "e3ff6652-004f-4ba2-b3df-c259c05a4811",
   "metadata": {},
   "source": [
    "Reproduzcamos el caso en el que los ejemplos son one hot:"
   ]
  },
  {
   "cell_type": "code",
   "execution_count": 60,
   "id": "426b637b-ab38-40c1-a946-125aee02843f",
   "metadata": {},
   "outputs": [
    {
     "name": "stdout",
     "output_type": "stream",
     "text": [
      "tensor(2.9620)\n"
     ]
    }
   ],
   "source": [
    "# La salida de la red es la misma que en el caso anterior, son los logits.\n",
    "input = torch. tensor([[ 0.7896, -1.3428,  0.4499, -0.4486, -1.8486],\n",
    "        [-2.1771,  0.5159,  1.4877, -1.6626, -0.6794],\n",
    "        [ 0.3828, -1.1884,  2.0914,  1.9666,  0.5588]], requires_grad=False)\n",
    "\n",
    "# Construimos un vector one-hot. La pérdida debería ser la misma que en el caso anterior. \n",
    "# Esto también podría ser una distribución de probabilidad.\n",
    "target = torch.tensor([[0,1,0,0,0],[0,0,0,1,0],[0,0,0,0,1]], dtype=torch.float)\n",
    "output = loss(input, target)\n",
    "print(output)"
   ]
  },
  {
   "cell_type": "markdown",
   "id": "7455cfa7-49dd-44fc-9409-1dfe767f398d",
   "metadata": {},
   "source": [
    "Una forma alternativa de calcular lo mismo es meter el softmax en la red, y utilizar `torch.nn.NLLLoss`, que asume que la entrada son los logaritmos de las probabilidades (es decir, el resultado de agregar una capa `LogSoftmax` en la red). "
   ]
  }
 ],
 "metadata": {
  "kernelspec": {
   "display_name": "Python 3 (ipykernel)",
   "language": "python",
   "name": "python3"
  },
  "language_info": {
   "codemirror_mode": {
    "name": "ipython",
    "version": 3
   },
   "file_extension": ".py",
   "mimetype": "text/x-python",
   "name": "python",
   "nbconvert_exporter": "python",
   "pygments_lexer": "ipython3",
   "version": "3.11.11"
  }
 },
 "nbformat": 4,
 "nbformat_minor": 5
}
